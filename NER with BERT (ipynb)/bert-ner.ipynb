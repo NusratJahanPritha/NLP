{
 "cells": [
  {
   "cell_type": "code",
   "execution_count": 1,
   "id": "6ab1d869",
   "metadata": {
    "_cell_guid": "b1076dfc-b9ad-4769-8c92-a6c4dae69d19",
    "_uuid": "8f2839f25d086af736a60e9eeb907d3b93b6e0e5",
    "execution": {
     "iopub.execute_input": "2022-01-28T03:21:28.181669Z",
     "iopub.status.busy": "2022-01-28T03:21:28.180976Z",
     "iopub.status.idle": "2022-01-28T03:21:28.195134Z",
     "shell.execute_reply": "2022-01-28T03:21:28.194442Z",
     "shell.execute_reply.started": "2022-01-27T19:35:43.393192Z"
    },
    "papermill": {
     "duration": 0.077326,
     "end_time": "2022-01-28T03:21:28.195307",
     "exception": false,
     "start_time": "2022-01-28T03:21:28.117981",
     "status": "completed"
    },
    "tags": []
   },
   "outputs": [
    {
     "name": "stdout",
     "output_type": "stream",
     "text": [
      "/kaggle/input/ner-dataset/ner_datasetreference.csv\n"
     ]
    }
   ],
   "source": [
    "# This Python 3 environment comes with many helpful analytics libraries installed\n",
    "# It is defined by the kaggle/python Docker image: https://github.com/kaggle/docker-python\n",
    "# For example, here's several helpful packages to load\n",
    "\n",
    "import numpy as np # linear algebra\n",
    "import pandas as pd # data processing, CSV file I/O (e.g. pd.read_csv)\n",
    "\n",
    "# Input data files are available in the read-only \"../input/\" directory\n",
    "# For example, running this (by clicking run or pressing Shift+Enter) will list all files under the input directory\n",
    "\n",
    "import os\n",
    "for dirname, _, filenames in os.walk('/kaggle/input'):\n",
    "    for filename in filenames:\n",
    "        print(os.path.join(dirname, filename))\n",
    "\n",
    "# You can write up to 20GB to the current directory (/kaggle/working/) that gets preserved as output when you create a version using \"Save & Run All\" \n",
    "# You can also write temporary files to /kaggle/temp/, but they won't be saved outside of the current session"
   ]
  },
  {
   "cell_type": "code",
   "execution_count": 2,
   "id": "c824099f",
   "metadata": {
    "execution": {
     "iopub.execute_input": "2022-01-28T03:21:28.307024Z",
     "iopub.status.busy": "2022-01-28T03:21:28.306035Z",
     "iopub.status.idle": "2022-01-28T03:21:28.945891Z",
     "shell.execute_reply": "2022-01-28T03:21:28.945342Z",
     "shell.execute_reply.started": "2022-01-27T19:35:43.408995Z"
    },
    "papermill": {
     "duration": 0.703775,
     "end_time": "2022-01-28T03:21:28.946022",
     "exception": false,
     "start_time": "2022-01-28T03:21:28.242247",
     "status": "completed"
    },
    "tags": []
   },
   "outputs": [],
   "source": [
    "data = pd.read_csv('/kaggle/input/ner-dataset/ner_datasetreference.csv', encoding='latin1')"
   ]
  },
  {
   "cell_type": "code",
   "execution_count": 3,
   "id": "abdc26cc",
   "metadata": {
    "execution": {
     "iopub.execute_input": "2022-01-28T03:21:29.030192Z",
     "iopub.status.busy": "2022-01-28T03:21:29.029376Z",
     "iopub.status.idle": "2022-01-28T03:21:29.042297Z",
     "shell.execute_reply": "2022-01-28T03:21:29.042729Z",
     "shell.execute_reply.started": "2022-01-27T19:35:44.016655Z"
    },
    "papermill": {
     "duration": 0.058649,
     "end_time": "2022-01-28T03:21:29.042869",
     "exception": false,
     "start_time": "2022-01-28T03:21:28.984220",
     "status": "completed"
    },
    "tags": []
   },
   "outputs": [
    {
     "data": {
      "text/html": [
       "<div>\n",
       "<style scoped>\n",
       "    .dataframe tbody tr th:only-of-type {\n",
       "        vertical-align: middle;\n",
       "    }\n",
       "\n",
       "    .dataframe tbody tr th {\n",
       "        vertical-align: top;\n",
       "    }\n",
       "\n",
       "    .dataframe thead th {\n",
       "        text-align: right;\n",
       "    }\n",
       "</style>\n",
       "<table border=\"1\" class=\"dataframe\">\n",
       "  <thead>\n",
       "    <tr style=\"text-align: right;\">\n",
       "      <th></th>\n",
       "      <th>Sentence #</th>\n",
       "      <th>Word</th>\n",
       "      <th>POS</th>\n",
       "      <th>Tag</th>\n",
       "    </tr>\n",
       "  </thead>\n",
       "  <tbody>\n",
       "    <tr>\n",
       "      <th>0</th>\n",
       "      <td>Sentence: 1</td>\n",
       "      <td>Thousands</td>\n",
       "      <td>NNS</td>\n",
       "      <td>O</td>\n",
       "    </tr>\n",
       "    <tr>\n",
       "      <th>1</th>\n",
       "      <td>NaN</td>\n",
       "      <td>of</td>\n",
       "      <td>IN</td>\n",
       "      <td>O</td>\n",
       "    </tr>\n",
       "    <tr>\n",
       "      <th>2</th>\n",
       "      <td>NaN</td>\n",
       "      <td>demonstrators</td>\n",
       "      <td>NNS</td>\n",
       "      <td>O</td>\n",
       "    </tr>\n",
       "    <tr>\n",
       "      <th>3</th>\n",
       "      <td>NaN</td>\n",
       "      <td>have</td>\n",
       "      <td>VBP</td>\n",
       "      <td>O</td>\n",
       "    </tr>\n",
       "    <tr>\n",
       "      <th>4</th>\n",
       "      <td>NaN</td>\n",
       "      <td>marched</td>\n",
       "      <td>VBN</td>\n",
       "      <td>O</td>\n",
       "    </tr>\n",
       "  </tbody>\n",
       "</table>\n",
       "</div>"
      ],
      "text/plain": [
       "    Sentence #           Word  POS Tag\n",
       "0  Sentence: 1      Thousands  NNS   O\n",
       "1          NaN             of   IN   O\n",
       "2          NaN  demonstrators  NNS   O\n",
       "3          NaN           have  VBP   O\n",
       "4          NaN        marched  VBN   O"
      ]
     },
     "execution_count": 3,
     "metadata": {},
     "output_type": "execute_result"
    }
   ],
   "source": [
    "data.head()"
   ]
  },
  {
   "cell_type": "code",
   "execution_count": 4,
   "id": "1e7ae3a1",
   "metadata": {
    "execution": {
     "iopub.execute_input": "2022-01-28T03:21:29.511037Z",
     "iopub.status.busy": "2022-01-28T03:21:29.510009Z",
     "iopub.status.idle": "2022-01-28T03:21:29.531379Z",
     "shell.execute_reply": "2022-01-28T03:21:29.531893Z",
     "shell.execute_reply.started": "2022-01-27T19:35:44.039851Z"
    },
    "papermill": {
     "duration": 0.44851,
     "end_time": "2022-01-28T03:21:29.532054",
     "exception": false,
     "start_time": "2022-01-28T03:21:29.083544",
     "status": "completed"
    },
    "tags": []
   },
   "outputs": [],
   "source": [
    "data = data.fillna(method='ffill')"
   ]
  },
  {
   "cell_type": "code",
   "execution_count": 5,
   "id": "5679cfff",
   "metadata": {
    "execution": {
     "iopub.execute_input": "2022-01-28T03:21:29.708630Z",
     "iopub.status.busy": "2022-01-28T03:21:29.707607Z",
     "iopub.status.idle": "2022-01-28T03:21:29.904017Z",
     "shell.execute_reply": "2022-01-28T03:21:29.904406Z",
     "shell.execute_reply.started": "2022-01-27T19:35:44.434111Z"
    },
    "papermill": {
     "duration": 0.334018,
     "end_time": "2022-01-28T03:21:29.904558",
     "exception": false,
     "start_time": "2022-01-28T03:21:29.570540",
     "status": "completed"
    },
    "tags": []
   },
   "outputs": [
    {
     "data": {
      "text/html": [
       "<div>\n",
       "<style scoped>\n",
       "    .dataframe tbody tr th:only-of-type {\n",
       "        vertical-align: middle;\n",
       "    }\n",
       "\n",
       "    .dataframe tbody tr th {\n",
       "        vertical-align: top;\n",
       "    }\n",
       "\n",
       "    .dataframe thead th {\n",
       "        text-align: right;\n",
       "    }\n",
       "</style>\n",
       "<table border=\"1\" class=\"dataframe\">\n",
       "  <thead>\n",
       "    <tr style=\"text-align: right;\">\n",
       "      <th></th>\n",
       "      <th>Sentence #</th>\n",
       "      <th>Word</th>\n",
       "      <th>Tag</th>\n",
       "    </tr>\n",
       "  </thead>\n",
       "  <tbody>\n",
       "    <tr>\n",
       "      <th>0</th>\n",
       "      <td>Sentence: 1</td>\n",
       "      <td>Thousands</td>\n",
       "      <td>O</td>\n",
       "    </tr>\n",
       "    <tr>\n",
       "      <th>1</th>\n",
       "      <td>Sentence: 1</td>\n",
       "      <td>of</td>\n",
       "      <td>O</td>\n",
       "    </tr>\n",
       "    <tr>\n",
       "      <th>2</th>\n",
       "      <td>Sentence: 1</td>\n",
       "      <td>demonstrators</td>\n",
       "      <td>O</td>\n",
       "    </tr>\n",
       "    <tr>\n",
       "      <th>3</th>\n",
       "      <td>Sentence: 1</td>\n",
       "      <td>have</td>\n",
       "      <td>O</td>\n",
       "    </tr>\n",
       "    <tr>\n",
       "      <th>4</th>\n",
       "      <td>Sentence: 1</td>\n",
       "      <td>marched</td>\n",
       "      <td>O</td>\n",
       "    </tr>\n",
       "  </tbody>\n",
       "</table>\n",
       "</div>"
      ],
      "text/plain": [
       "    Sentence #           Word Tag\n",
       "0  Sentence: 1      Thousands   O\n",
       "1  Sentence: 1             of   O\n",
       "2  Sentence: 1  demonstrators   O\n",
       "3  Sentence: 1           have   O\n",
       "4  Sentence: 1        marched   O"
      ]
     },
     "execution_count": 5,
     "metadata": {},
     "output_type": "execute_result"
    }
   ],
   "source": [
    "entities_to_remove = [\"B-gpe\",\"I-gpe\",\"B-tim\",\"I-tim\",\"B-art\", \"I-art\", \"B-eve\", \"I-eve\", \"B-nat\", \"I-nat\"]\n",
    "data = data[~data.Tag.isin(entities_to_remove)]\n",
    "data =data.drop(['POS'],axis=1)\n",
    "data.head()"
   ]
  },
  {
   "cell_type": "code",
   "execution_count": 6,
   "id": "96219392",
   "metadata": {
    "execution": {
     "iopub.execute_input": "2022-01-28T03:21:30.041529Z",
     "iopub.status.busy": "2022-01-28T03:21:30.040992Z",
     "iopub.status.idle": "2022-01-28T03:21:30.046123Z",
     "shell.execute_reply": "2022-01-28T03:21:30.045374Z",
     "shell.execute_reply.started": "2022-01-27T19:35:44.66756Z"
    },
    "papermill": {
     "duration": 0.103173,
     "end_time": "2022-01-28T03:21:30.046237",
     "exception": false,
     "start_time": "2022-01-28T03:21:29.943064",
     "status": "completed"
    },
    "tags": []
   },
   "outputs": [
    {
     "data": {
      "text/html": [
       "<div>\n",
       "<style scoped>\n",
       "    .dataframe tbody tr th:only-of-type {\n",
       "        vertical-align: middle;\n",
       "    }\n",
       "\n",
       "    .dataframe tbody tr th {\n",
       "        vertical-align: top;\n",
       "    }\n",
       "\n",
       "    .dataframe thead th {\n",
       "        text-align: right;\n",
       "    }\n",
       "</style>\n",
       "<table border=\"1\" class=\"dataframe\">\n",
       "  <thead>\n",
       "    <tr style=\"text-align: right;\">\n",
       "      <th></th>\n",
       "      <th>Sentence #</th>\n",
       "      <th>Word</th>\n",
       "      <th>Tag</th>\n",
       "    </tr>\n",
       "  </thead>\n",
       "  <tbody>\n",
       "    <tr>\n",
       "      <th>0</th>\n",
       "      <td>Sentence: 1</td>\n",
       "      <td>Thousands</td>\n",
       "      <td>O</td>\n",
       "    </tr>\n",
       "    <tr>\n",
       "      <th>1</th>\n",
       "      <td>Sentence: 1</td>\n",
       "      <td>of</td>\n",
       "      <td>O</td>\n",
       "    </tr>\n",
       "    <tr>\n",
       "      <th>2</th>\n",
       "      <td>Sentence: 1</td>\n",
       "      <td>demonstrators</td>\n",
       "      <td>O</td>\n",
       "    </tr>\n",
       "    <tr>\n",
       "      <th>3</th>\n",
       "      <td>Sentence: 1</td>\n",
       "      <td>have</td>\n",
       "      <td>O</td>\n",
       "    </tr>\n",
       "    <tr>\n",
       "      <th>4</th>\n",
       "      <td>Sentence: 1</td>\n",
       "      <td>marched</td>\n",
       "      <td>O</td>\n",
       "    </tr>\n",
       "  </tbody>\n",
       "</table>\n",
       "</div>"
      ],
      "text/plain": [
       "    Sentence #           Word Tag\n",
       "0  Sentence: 1      Thousands   O\n",
       "1  Sentence: 1             of   O\n",
       "2  Sentence: 1  demonstrators   O\n",
       "3  Sentence: 1           have   O\n",
       "4  Sentence: 1        marched   O"
      ]
     },
     "execution_count": 6,
     "metadata": {},
     "output_type": "execute_result"
    }
   ],
   "source": [
    "data.head()"
   ]
  },
  {
   "cell_type": "code",
   "execution_count": 7,
   "id": "8276dba6",
   "metadata": {
    "execution": {
     "iopub.execute_input": "2022-01-28T03:21:30.174248Z",
     "iopub.status.busy": "2022-01-28T03:21:30.173329Z",
     "iopub.status.idle": "2022-01-28T03:21:30.176448Z",
     "shell.execute_reply": "2022-01-28T03:21:30.177220Z",
     "shell.execute_reply.started": "2022-01-27T19:35:44.678074Z"
    },
    "papermill": {
     "duration": 0.091015,
     "end_time": "2022-01-28T03:21:30.177453",
     "exception": false,
     "start_time": "2022-01-28T03:21:30.086438",
     "status": "completed"
    },
    "tags": []
   },
   "outputs": [],
   "source": [
    "class GetSentence(object):\n",
    "    def __init__(self,data):\n",
    "        self.data = data\n",
    "        self.n_sentences = 1\n",
    "        self.empty = False\n",
    "        agg_function = lambda s: [(w,t) for w,t in zip(s[\"Word\"].values.tolist(),\n",
    "                                                        s[\"Tag\"].values.tolist())]\n",
    "        self.group = self.data.groupby('Sentence #').apply(agg_function)\n",
    "        self.sentence = [s for s in self.group]"
   ]
  },
  {
   "cell_type": "code",
   "execution_count": 8,
   "id": "7c18a0fe",
   "metadata": {
    "execution": {
     "iopub.execute_input": "2022-01-28T03:21:30.354907Z",
     "iopub.status.busy": "2022-01-28T03:21:30.353979Z",
     "iopub.status.idle": "2022-01-28T03:21:34.836130Z",
     "shell.execute_reply": "2022-01-28T03:21:34.835352Z",
     "shell.execute_reply.started": "2022-01-27T19:35:44.689111Z"
    },
    "papermill": {
     "duration": 4.583042,
     "end_time": "2022-01-28T03:21:34.836287",
     "exception": false,
     "start_time": "2022-01-28T03:21:30.253245",
     "status": "completed"
    },
    "tags": []
   },
   "outputs": [],
   "source": [
    "getter = GetSentence(data)"
   ]
  },
  {
   "cell_type": "code",
   "execution_count": 9,
   "id": "52c37a28",
   "metadata": {
    "execution": {
     "iopub.execute_input": "2022-01-28T03:21:34.948905Z",
     "iopub.status.busy": "2022-01-28T03:21:34.943816Z",
     "iopub.status.idle": "2022-01-28T03:21:35.013559Z",
     "shell.execute_reply": "2022-01-28T03:21:35.013106Z",
     "shell.execute_reply.started": "2022-01-27T19:35:49.371536Z"
    },
    "papermill": {
     "duration": 0.138235,
     "end_time": "2022-01-28T03:21:35.013715",
     "exception": false,
     "start_time": "2022-01-28T03:21:34.875480",
     "status": "completed"
    },
    "tags": []
   },
   "outputs": [],
   "source": [
    "sentence = [[word[0] for word in sentence] for sentence in getter.sentence]"
   ]
  },
  {
   "cell_type": "code",
   "execution_count": 10,
   "id": "5afd49a9",
   "metadata": {
    "execution": {
     "iopub.execute_input": "2022-01-28T03:21:35.097415Z",
     "iopub.status.busy": "2022-01-28T03:21:35.096666Z",
     "iopub.status.idle": "2022-01-28T03:21:35.099473Z",
     "shell.execute_reply": "2022-01-28T03:21:35.099921Z",
     "shell.execute_reply.started": "2022-01-27T19:35:49.467666Z"
    },
    "papermill": {
     "duration": 0.047075,
     "end_time": "2022-01-28T03:21:35.100050",
     "exception": false,
     "start_time": "2022-01-28T03:21:35.052975",
     "status": "completed"
    },
    "tags": []
   },
   "outputs": [
    {
     "data": {
      "text/plain": [
       "['Thousands',\n",
       " 'of',\n",
       " 'demonstrators',\n",
       " 'have',\n",
       " 'marched',\n",
       " 'through',\n",
       " 'London',\n",
       " 'to',\n",
       " 'protest',\n",
       " 'the',\n",
       " 'war',\n",
       " 'in',\n",
       " 'Iraq',\n",
       " 'and',\n",
       " 'demand',\n",
       " 'the',\n",
       " 'withdrawal',\n",
       " 'of',\n",
       " 'troops',\n",
       " 'from',\n",
       " 'that',\n",
       " 'country',\n",
       " '.']"
      ]
     },
     "execution_count": 10,
     "metadata": {},
     "output_type": "execute_result"
    }
   ],
   "source": [
    "sentence[0]"
   ]
  },
  {
   "cell_type": "code",
   "execution_count": 11,
   "id": "fb0c3533",
   "metadata": {
    "execution": {
     "iopub.execute_input": "2022-01-28T03:21:35.332804Z",
     "iopub.status.busy": "2022-01-28T03:21:35.331693Z",
     "iopub.status.idle": "2022-01-28T03:21:35.394098Z",
     "shell.execute_reply": "2022-01-28T03:21:35.393247Z",
     "shell.execute_reply.started": "2022-01-27T19:35:49.475341Z"
    },
    "papermill": {
     "duration": 0.254951,
     "end_time": "2022-01-28T03:21:35.394235",
     "exception": false,
     "start_time": "2022-01-28T03:21:35.139284",
     "status": "completed"
    },
    "tags": []
   },
   "outputs": [],
   "source": [
    "labels = [[lab[1] for lab in sentence] for sentence in getter.sentence]"
   ]
  },
  {
   "cell_type": "code",
   "execution_count": 12,
   "id": "1b7143e8",
   "metadata": {
    "execution": {
     "iopub.execute_input": "2022-01-28T03:21:35.478346Z",
     "iopub.status.busy": "2022-01-28T03:21:35.477646Z",
     "iopub.status.idle": "2022-01-28T03:21:35.480327Z",
     "shell.execute_reply": "2022-01-28T03:21:35.480765Z",
     "shell.execute_reply.started": "2022-01-27T19:35:49.68654Z"
    },
    "papermill": {
     "duration": 0.046842,
     "end_time": "2022-01-28T03:21:35.480909",
     "exception": false,
     "start_time": "2022-01-28T03:21:35.434067",
     "status": "completed"
    },
    "tags": []
   },
   "outputs": [
    {
     "data": {
      "text/plain": [
       "['O',\n",
       " 'O',\n",
       " 'O',\n",
       " 'O',\n",
       " 'O',\n",
       " 'O',\n",
       " 'B-geo',\n",
       " 'O',\n",
       " 'O',\n",
       " 'O',\n",
       " 'O',\n",
       " 'O',\n",
       " 'B-geo',\n",
       " 'O',\n",
       " 'O',\n",
       " 'O',\n",
       " 'O',\n",
       " 'O',\n",
       " 'O',\n",
       " 'O',\n",
       " 'O',\n",
       " 'O',\n",
       " 'O']"
      ]
     },
     "execution_count": 12,
     "metadata": {},
     "output_type": "execute_result"
    }
   ],
   "source": [
    "labels[0]"
   ]
  },
  {
   "cell_type": "code",
   "execution_count": 13,
   "id": "8d81ff42",
   "metadata": {
    "execution": {
     "iopub.execute_input": "2022-01-28T03:21:35.598949Z",
     "iopub.status.busy": "2022-01-28T03:21:35.597848Z",
     "iopub.status.idle": "2022-01-28T03:21:35.602090Z",
     "shell.execute_reply": "2022-01-28T03:21:35.601643Z",
     "shell.execute_reply.started": "2022-01-27T19:35:49.694378Z"
    },
    "papermill": {
     "duration": 0.081943,
     "end_time": "2022-01-28T03:21:35.602210",
     "exception": false,
     "start_time": "2022-01-28T03:21:35.520267",
     "status": "completed"
    },
    "tags": []
   },
   "outputs": [],
   "source": [
    "tag_values = list(set(data[\"Tag\"].values))"
   ]
  },
  {
   "cell_type": "code",
   "execution_count": 14,
   "id": "4431f75d",
   "metadata": {
    "execution": {
     "iopub.execute_input": "2022-01-28T03:21:35.684567Z",
     "iopub.status.busy": "2022-01-28T03:21:35.683764Z",
     "iopub.status.idle": "2022-01-28T03:21:35.689446Z",
     "shell.execute_reply": "2022-01-28T03:21:35.689020Z",
     "shell.execute_reply.started": "2022-01-27T19:35:49.740786Z"
    },
    "papermill": {
     "duration": 0.047652,
     "end_time": "2022-01-28T03:21:35.689560",
     "exception": false,
     "start_time": "2022-01-28T03:21:35.641908",
     "status": "completed"
    },
    "tags": []
   },
   "outputs": [
    {
     "data": {
      "text/plain": [
       "['B-per', 'I-geo', 'I-per', 'B-org', 'I-org', 'B-geo', 'O']"
      ]
     },
     "execution_count": 14,
     "metadata": {},
     "output_type": "execute_result"
    }
   ],
   "source": [
    "tag_values"
   ]
  },
  {
   "cell_type": "code",
   "execution_count": 15,
   "id": "ca5879e8",
   "metadata": {
    "execution": {
     "iopub.execute_input": "2022-01-28T03:21:35.773055Z",
     "iopub.status.busy": "2022-01-28T03:21:35.772353Z",
     "iopub.status.idle": "2022-01-28T03:21:35.774814Z",
     "shell.execute_reply": "2022-01-28T03:21:35.774379Z",
     "shell.execute_reply.started": "2022-01-27T19:35:49.75053Z"
    },
    "papermill": {
     "duration": 0.045871,
     "end_time": "2022-01-28T03:21:35.774923",
     "exception": false,
     "start_time": "2022-01-28T03:21:35.729052",
     "status": "completed"
    },
    "tags": []
   },
   "outputs": [],
   "source": [
    "tag_values.append('PAD')"
   ]
  },
  {
   "cell_type": "code",
   "execution_count": 16,
   "id": "5f52c1db",
   "metadata": {
    "execution": {
     "iopub.execute_input": "2022-01-28T03:21:35.859190Z",
     "iopub.status.busy": "2022-01-28T03:21:35.858485Z",
     "iopub.status.idle": "2022-01-28T03:21:35.860973Z",
     "shell.execute_reply": "2022-01-28T03:21:35.860438Z",
     "shell.execute_reply.started": "2022-01-27T19:35:49.758226Z"
    },
    "papermill": {
     "duration": 0.046101,
     "end_time": "2022-01-28T03:21:35.861077",
     "exception": false,
     "start_time": "2022-01-28T03:21:35.814976",
     "status": "completed"
    },
    "tags": []
   },
   "outputs": [],
   "source": [
    "tag_idx = {t: i for i, t in enumerate(tag_values)}"
   ]
  },
  {
   "cell_type": "code",
   "execution_count": 17,
   "id": "ab6d2963",
   "metadata": {
    "execution": {
     "iopub.execute_input": "2022-01-28T03:21:35.944925Z",
     "iopub.status.busy": "2022-01-28T03:21:35.944274Z",
     "iopub.status.idle": "2022-01-28T03:21:35.946945Z",
     "shell.execute_reply": "2022-01-28T03:21:35.947408Z",
     "shell.execute_reply.started": "2022-01-27T19:35:49.767514Z"
    },
    "papermill": {
     "duration": 0.046862,
     "end_time": "2022-01-28T03:21:35.947539",
     "exception": false,
     "start_time": "2022-01-28T03:21:35.900677",
     "status": "completed"
    },
    "tags": []
   },
   "outputs": [
    {
     "data": {
      "text/plain": [
       "{'B-per': 0,\n",
       " 'I-geo': 1,\n",
       " 'I-per': 2,\n",
       " 'B-org': 3,\n",
       " 'I-org': 4,\n",
       " 'B-geo': 5,\n",
       " 'O': 6,\n",
       " 'PAD': 7}"
      ]
     },
     "execution_count": 17,
     "metadata": {},
     "output_type": "execute_result"
    }
   ],
   "source": [
    "tag_idx"
   ]
  },
  {
   "cell_type": "code",
   "execution_count": 18,
   "id": "28227d10",
   "metadata": {
    "execution": {
     "iopub.execute_input": "2022-01-28T03:21:36.031939Z",
     "iopub.status.busy": "2022-01-28T03:21:36.031277Z",
     "iopub.status.idle": "2022-01-28T03:21:37.412107Z",
     "shell.execute_reply": "2022-01-28T03:21:37.411434Z",
     "shell.execute_reply.started": "2022-01-27T19:35:49.778021Z"
    },
    "papermill": {
     "duration": 1.424743,
     "end_time": "2022-01-28T03:21:37.412247",
     "exception": false,
     "start_time": "2022-01-28T03:21:35.987504",
     "status": "completed"
    },
    "tags": []
   },
   "outputs": [],
   "source": [
    "import torch\n",
    "from torch.utils.data import TensorDataset, DataLoader, RandomSampler, SequentialSampler"
   ]
  },
  {
   "cell_type": "code",
   "execution_count": 19,
   "id": "2a27cc51",
   "metadata": {
    "execution": {
     "iopub.execute_input": "2022-01-28T03:21:37.495456Z",
     "iopub.status.busy": "2022-01-28T03:21:37.494666Z",
     "iopub.status.idle": "2022-01-28T03:21:37.500111Z",
     "shell.execute_reply": "2022-01-28T03:21:37.499686Z",
     "shell.execute_reply.started": "2022-01-27T19:35:51.166351Z"
    },
    "papermill": {
     "duration": 0.047795,
     "end_time": "2022-01-28T03:21:37.500216",
     "exception": false,
     "start_time": "2022-01-28T03:21:37.452421",
     "status": "completed"
    },
    "tags": []
   },
   "outputs": [
    {
     "data": {
      "text/plain": [
       "'1.9.1'"
      ]
     },
     "execution_count": 19,
     "metadata": {},
     "output_type": "execute_result"
    }
   ],
   "source": [
    "torch.__version__"
   ]
  },
  {
   "cell_type": "code",
   "execution_count": 20,
   "id": "77eb4247",
   "metadata": {
    "execution": {
     "iopub.execute_input": "2022-01-28T03:21:37.584191Z",
     "iopub.status.busy": "2022-01-28T03:21:37.583447Z",
     "iopub.status.idle": "2022-01-28T03:21:37.585748Z",
     "shell.execute_reply": "2022-01-28T03:21:37.585310Z",
     "shell.execute_reply.started": "2022-01-27T19:35:51.173582Z"
    },
    "papermill": {
     "duration": 0.045514,
     "end_time": "2022-01-28T03:21:37.585856",
     "exception": false,
     "start_time": "2022-01-28T03:21:37.540342",
     "status": "completed"
    },
    "tags": []
   },
   "outputs": [],
   "source": [
    "# !pip install transformers"
   ]
  },
  {
   "cell_type": "code",
   "execution_count": 21,
   "id": "d93ad2ad",
   "metadata": {
    "execution": {
     "iopub.execute_input": "2022-01-28T03:21:37.671294Z",
     "iopub.status.busy": "2022-01-28T03:21:37.670591Z",
     "iopub.status.idle": "2022-01-28T03:21:38.799905Z",
     "shell.execute_reply": "2022-01-28T03:21:38.798948Z",
     "shell.execute_reply.started": "2022-01-27T19:35:51.182068Z"
    },
    "papermill": {
     "duration": 1.173355,
     "end_time": "2022-01-28T03:21:38.800053",
     "exception": false,
     "start_time": "2022-01-28T03:21:37.626698",
     "status": "completed"
    },
    "tags": []
   },
   "outputs": [],
   "source": [
    "from transformers import BertTokenizer, BertConfig\n",
    "from sklearn.model_selection import train_test_split"
   ]
  },
  {
   "cell_type": "code",
   "execution_count": 22,
   "id": "7c6fbe71",
   "metadata": {
    "execution": {
     "iopub.execute_input": "2022-01-28T03:21:38.886696Z",
     "iopub.status.busy": "2022-01-28T03:21:38.885076Z",
     "iopub.status.idle": "2022-01-28T03:21:38.887579Z",
     "shell.execute_reply": "2022-01-28T03:21:38.888167Z",
     "shell.execute_reply.started": "2022-01-27T19:35:52.297528Z"
    },
    "papermill": {
     "duration": 0.047114,
     "end_time": "2022-01-28T03:21:38.888300",
     "exception": false,
     "start_time": "2022-01-28T03:21:38.841186",
     "status": "completed"
    },
    "tags": []
   },
   "outputs": [],
   "source": [
    "MAX_LEN = 75\n",
    "BATCH_SIZE = 16"
   ]
  },
  {
   "cell_type": "code",
   "execution_count": 23,
   "id": "60ea8425",
   "metadata": {
    "execution": {
     "iopub.execute_input": "2022-01-28T03:21:39.016900Z",
     "iopub.status.busy": "2022-01-28T03:21:39.015967Z",
     "iopub.status.idle": "2022-01-28T03:21:39.018211Z",
     "shell.execute_reply": "2022-01-28T03:21:39.018658Z",
     "shell.execute_reply.started": "2022-01-27T19:35:52.303354Z"
    },
    "papermill": {
     "duration": 0.090376,
     "end_time": "2022-01-28T03:21:39.018799",
     "exception": false,
     "start_time": "2022-01-28T03:21:38.928423",
     "status": "completed"
    },
    "tags": []
   },
   "outputs": [],
   "source": [
    "device = torch.device('cuda' if torch.cuda.is_available() else 'cpu')"
   ]
  },
  {
   "cell_type": "code",
   "execution_count": 24,
   "id": "f6223ed6",
   "metadata": {
    "execution": {
     "iopub.execute_input": "2022-01-28T03:21:39.104374Z",
     "iopub.status.busy": "2022-01-28T03:21:39.103725Z",
     "iopub.status.idle": "2022-01-28T03:21:39.106460Z",
     "shell.execute_reply": "2022-01-28T03:21:39.106904Z",
     "shell.execute_reply.started": "2022-01-27T19:35:52.364372Z"
    },
    "papermill": {
     "duration": 0.047457,
     "end_time": "2022-01-28T03:21:39.107047",
     "exception": false,
     "start_time": "2022-01-28T03:21:39.059590",
     "status": "completed"
    },
    "tags": []
   },
   "outputs": [
    {
     "name": "stdout",
     "output_type": "stream",
     "text": [
      "1\n"
     ]
    }
   ],
   "source": [
    "print(torch.cuda.device_count())"
   ]
  },
  {
   "cell_type": "code",
   "execution_count": 25,
   "id": "47be5eb8",
   "metadata": {
    "execution": {
     "iopub.execute_input": "2022-01-28T03:21:39.192510Z",
     "iopub.status.busy": "2022-01-28T03:21:39.192014Z",
     "iopub.status.idle": "2022-01-28T03:21:40.721344Z",
     "shell.execute_reply": "2022-01-28T03:21:40.720300Z",
     "shell.execute_reply.started": "2022-01-27T19:35:52.377946Z"
    },
    "papermill": {
     "duration": 1.574021,
     "end_time": "2022-01-28T03:21:40.721483",
     "exception": false,
     "start_time": "2022-01-28T03:21:39.147462",
     "status": "completed"
    },
    "tags": []
   },
   "outputs": [
    {
     "data": {
      "application/vnd.jupyter.widget-view+json": {
       "model_id": "bc9e34ce997348f6a0606bd3b1fc9b1c",
       "version_major": 2,
       "version_minor": 0
      },
      "text/plain": [
       "Downloading:   0%|          | 0.00/213k [00:00<?, ?B/s]"
      ]
     },
     "metadata": {},
     "output_type": "display_data"
    },
    {
     "data": {
      "application/vnd.jupyter.widget-view+json": {
       "model_id": "6925b40e700649479dd5b38b4ed30f4c",
       "version_major": 2,
       "version_minor": 0
      },
      "text/plain": [
       "Downloading:   0%|          | 0.00/29.0 [00:00<?, ?B/s]"
      ]
     },
     "metadata": {},
     "output_type": "display_data"
    },
    {
     "data": {
      "application/vnd.jupyter.widget-view+json": {
       "model_id": "00561fd6056d44d8b2957d25c80d67c1",
       "version_major": 2,
       "version_minor": 0
      },
      "text/plain": [
       "Downloading:   0%|          | 0.00/436k [00:00<?, ?B/s]"
      ]
     },
     "metadata": {},
     "output_type": "display_data"
    }
   ],
   "source": [
    "tokenizer = BertTokenizer.from_pretrained('bert-base-cased', do_lower_case = False)"
   ]
  },
  {
   "cell_type": "code",
   "execution_count": 26,
   "id": "9faf6728",
   "metadata": {
    "execution": {
     "iopub.execute_input": "2022-01-28T03:21:40.816534Z",
     "iopub.status.busy": "2022-01-28T03:21:40.814898Z",
     "iopub.status.idle": "2022-01-28T03:21:40.817232Z",
     "shell.execute_reply": "2022-01-28T03:21:40.817899Z",
     "shell.execute_reply.started": "2022-01-27T19:35:53.464561Z"
    },
    "papermill": {
     "duration": 0.052681,
     "end_time": "2022-01-28T03:21:40.818073",
     "exception": false,
     "start_time": "2022-01-28T03:21:40.765392",
     "status": "completed"
    },
    "tags": []
   },
   "outputs": [],
   "source": [
    "def tokenize_preserve(sentences,text_labels):\n",
    "    tokenized_sentence = []\n",
    "    labels = []\n",
    "    \n",
    "    for word, label in zip(sentences,text_labels):\n",
    "        tokenized_word = tokenizer.tokenize(word)\n",
    "        n_subwords = len(tokenized_word)\n",
    "        tokenized_sentence.extend(tokenized_word)\n",
    "        labels.extend([label]*n_subwords)\n",
    "    \n",
    "    return tokenized_sentence, labels\n",
    "        "
   ]
  },
  {
   "cell_type": "code",
   "execution_count": 27,
   "id": "71f2b58b",
   "metadata": {
    "execution": {
     "iopub.execute_input": "2022-01-28T03:21:40.962577Z",
     "iopub.status.busy": "2022-01-28T03:21:40.947597Z",
     "iopub.status.idle": "2022-01-28T03:22:36.884159Z",
     "shell.execute_reply": "2022-01-28T03:22:36.883609Z",
     "shell.execute_reply.started": "2022-01-27T19:35:53.471256Z"
    },
    "papermill": {
     "duration": 56.023176,
     "end_time": "2022-01-28T03:22:36.884313",
     "exception": false,
     "start_time": "2022-01-28T03:21:40.861137",
     "status": "completed"
    },
    "tags": []
   },
   "outputs": [],
   "source": [
    "tokenized_texts_and_labels = [\n",
    "  tokenize_preserve(sent,labs)\n",
    "  for sent,labs in zip(sentence,labels)\n",
    "]"
   ]
  },
  {
   "cell_type": "code",
   "execution_count": 28,
   "id": "edd4ed9f",
   "metadata": {
    "execution": {
     "iopub.execute_input": "2022-01-28T03:22:36.985667Z",
     "iopub.status.busy": "2022-01-28T03:22:36.984053Z",
     "iopub.status.idle": "2022-01-28T03:22:36.986246Z",
     "shell.execute_reply": "2022-01-28T03:22:36.986680Z",
     "shell.execute_reply.started": "2022-01-27T19:36:48.956201Z"
    },
    "papermill": {
     "duration": 0.060006,
     "end_time": "2022-01-28T03:22:36.986812",
     "exception": false,
     "start_time": "2022-01-28T03:22:36.926806",
     "status": "completed"
    },
    "tags": []
   },
   "outputs": [],
   "source": [
    "tokenized_text = [token_label_pair[0] for token_label_pair in tokenized_texts_and_labels]\n",
    "labels = [token_label_pair[1]for token_label_pair in tokenized_texts_and_labels] "
   ]
  },
  {
   "cell_type": "code",
   "execution_count": 29,
   "id": "7bb487a5",
   "metadata": {
    "execution": {
     "iopub.execute_input": "2022-01-28T03:22:37.075788Z",
     "iopub.status.busy": "2022-01-28T03:22:37.075113Z",
     "iopub.status.idle": "2022-01-28T03:22:37.077598Z",
     "shell.execute_reply": "2022-01-28T03:22:37.078058Z",
     "shell.execute_reply.started": "2022-01-27T19:36:48.975373Z"
    },
    "papermill": {
     "duration": 0.049233,
     "end_time": "2022-01-28T03:22:37.078181",
     "exception": false,
     "start_time": "2022-01-28T03:22:37.028948",
     "status": "completed"
    },
    "tags": []
   },
   "outputs": [
    {
     "data": {
      "text/plain": [
       "(25, 25)"
      ]
     },
     "execution_count": 29,
     "metadata": {},
     "output_type": "execute_result"
    }
   ],
   "source": [
    "len(tokenized_text[0]) , len(labels[0])"
   ]
  },
  {
   "cell_type": "code",
   "execution_count": 30,
   "id": "53fa0a91",
   "metadata": {
    "execution": {
     "iopub.execute_input": "2022-01-28T03:22:37.165663Z",
     "iopub.status.busy": "2022-01-28T03:22:37.165093Z",
     "iopub.status.idle": "2022-01-28T03:22:37.172403Z",
     "shell.execute_reply": "2022-01-28T03:22:37.171973Z",
     "shell.execute_reply.started": "2022-01-27T19:36:48.988536Z"
    },
    "papermill": {
     "duration": 0.052514,
     "end_time": "2022-01-28T03:22:37.172504",
     "exception": false,
     "start_time": "2022-01-28T03:22:37.119990",
     "status": "completed"
    },
    "tags": []
   },
   "outputs": [],
   "source": [
    "from keras_preprocessing.sequence import pad_sequences"
   ]
  },
  {
   "cell_type": "code",
   "execution_count": 31,
   "id": "d5910308",
   "metadata": {
    "execution": {
     "iopub.execute_input": "2022-01-28T03:22:37.307272Z",
     "iopub.status.busy": "2022-01-28T03:22:37.268469Z",
     "iopub.status.idle": "2022-01-28T03:22:38.906379Z",
     "shell.execute_reply": "2022-01-28T03:22:38.905484Z",
     "shell.execute_reply.started": "2022-01-27T19:36:49.006044Z"
    },
    "papermill": {
     "duration": 1.69176,
     "end_time": "2022-01-28T03:22:38.906518",
     "exception": false,
     "start_time": "2022-01-28T03:22:37.214758",
     "status": "completed"
    },
    "tags": []
   },
   "outputs": [],
   "source": [
    "input_ids = pad_sequences([tokenizer.convert_tokens_to_ids(txt) for txt in tokenized_text],\n",
    "                         maxlen=MAX_LEN, dtype='long',value=0.0,\n",
    "                         truncating='post',padding='post')"
   ]
  },
  {
   "cell_type": "code",
   "execution_count": 32,
   "id": "f8ed6eb5",
   "metadata": {
    "execution": {
     "iopub.execute_input": "2022-01-28T03:22:39.270884Z",
     "iopub.status.busy": "2022-01-28T03:22:39.015859Z",
     "iopub.status.idle": "2022-01-28T03:22:39.798486Z",
     "shell.execute_reply": "2022-01-28T03:22:39.797908Z",
     "shell.execute_reply.started": "2022-01-27T19:36:50.625275Z"
    },
    "papermill": {
     "duration": 0.847926,
     "end_time": "2022-01-28T03:22:39.798613",
     "exception": false,
     "start_time": "2022-01-28T03:22:38.950687",
     "status": "completed"
    },
    "tags": []
   },
   "outputs": [],
   "source": [
    "tags = pad_sequences([[tag_idx.get(l)for l in lab]for lab in labels],\n",
    "                    maxlen=MAX_LEN, dtype='long', value=tag_idx['PAD'],\n",
    "                    truncating='post',padding='post')"
   ]
  },
  {
   "cell_type": "code",
   "execution_count": 33,
   "id": "05b4d23d",
   "metadata": {
    "execution": {
     "iopub.execute_input": "2022-01-28T03:22:39.887263Z",
     "iopub.status.busy": "2022-01-28T03:22:39.886448Z",
     "iopub.status.idle": "2022-01-28T03:22:50.742070Z",
     "shell.execute_reply": "2022-01-28T03:22:50.741465Z",
     "shell.execute_reply.started": "2022-01-27T19:36:51.428672Z"
    },
    "papermill": {
     "duration": 10.900635,
     "end_time": "2022-01-28T03:22:50.742224",
     "exception": false,
     "start_time": "2022-01-28T03:22:39.841589",
     "status": "completed"
    },
    "tags": []
   },
   "outputs": [],
   "source": [
    "attention_masks = [[float(i !=0.0)for i in ii]for ii in input_ids]"
   ]
  },
  {
   "cell_type": "code",
   "execution_count": 34,
   "id": "fe1640bc",
   "metadata": {
    "execution": {
     "iopub.execute_input": "2022-01-28T03:22:50.835656Z",
     "iopub.status.busy": "2022-01-28T03:22:50.834707Z",
     "iopub.status.idle": "2022-01-28T03:22:50.862393Z",
     "shell.execute_reply": "2022-01-28T03:22:50.861860Z",
     "shell.execute_reply.started": "2022-01-27T19:37:01.622364Z"
    },
    "papermill": {
     "duration": 0.078079,
     "end_time": "2022-01-28T03:22:50.862536",
     "exception": false,
     "start_time": "2022-01-28T03:22:50.784457",
     "status": "completed"
    },
    "tags": []
   },
   "outputs": [],
   "source": [
    "tr_input, val_input, tr_tag, val_tag = train_test_split(input_ids,tags,random_state=45,test_size=.1)"
   ]
  },
  {
   "cell_type": "code",
   "execution_count": 35,
   "id": "136997e1",
   "metadata": {
    "execution": {
     "iopub.execute_input": "2022-01-28T03:22:50.953320Z",
     "iopub.status.busy": "2022-01-28T03:22:50.952520Z",
     "iopub.status.idle": "2022-01-28T03:22:50.987129Z",
     "shell.execute_reply": "2022-01-28T03:22:50.986591Z",
     "shell.execute_reply.started": "2022-01-27T19:37:01.672536Z"
    },
    "papermill": {
     "duration": 0.08157,
     "end_time": "2022-01-28T03:22:50.987267",
     "exception": false,
     "start_time": "2022-01-28T03:22:50.905697",
     "status": "completed"
    },
    "tags": []
   },
   "outputs": [],
   "source": [
    "tr_masks, val_masks, _, _ = train_test_split(attention_masks, input_ids, random_state=45, test_size=.1)"
   ]
  },
  {
   "cell_type": "code",
   "execution_count": 36,
   "id": "81a69cfa",
   "metadata": {
    "execution": {
     "iopub.execute_input": "2022-01-28T03:22:51.080718Z",
     "iopub.status.busy": "2022-01-28T03:22:51.080151Z",
     "iopub.status.idle": "2022-01-28T03:22:51.087189Z",
     "shell.execute_reply": "2022-01-28T03:22:51.086681Z",
     "shell.execute_reply.started": "2022-01-27T19:37:01.728621Z"
    },
    "papermill": {
     "duration": 0.057726,
     "end_time": "2022-01-28T03:22:51.087317",
     "exception": false,
     "start_time": "2022-01-28T03:22:51.029591",
     "status": "completed"
    },
    "tags": []
   },
   "outputs": [
    {
     "name": "stdout",
     "output_type": "stream",
     "text": [
      "[1.0, 1.0, 1.0, 1.0, 1.0, 1.0, 1.0, 1.0, 1.0, 1.0, 1.0, 1.0, 1.0, 1.0, 1.0, 1.0, 0.0, 0.0, 0.0, 0.0, 0.0, 0.0, 0.0, 0.0, 0.0, 0.0, 0.0, 0.0, 0.0, 0.0, 0.0, 0.0, 0.0, 0.0, 0.0, 0.0, 0.0, 0.0, 0.0, 0.0, 0.0, 0.0, 0.0, 0.0, 0.0, 0.0, 0.0, 0.0, 0.0, 0.0, 0.0, 0.0, 0.0, 0.0, 0.0, 0.0, 0.0, 0.0, 0.0, 0.0, 0.0, 0.0, 0.0, 0.0, 0.0, 0.0, 0.0, 0.0, 0.0, 0.0, 0.0, 0.0, 0.0, 0.0, 0.0]\n",
      "[10000  2110  4108 19496  1335  5971  1183  1163  1175  1108  1185  6281\n",
      "  5088  1106 12010   119     0     0     0     0     0     0     0     0\n",
      "     0     0     0     0     0     0     0     0     0     0     0     0\n",
      "     0     0     0     0     0     0     0     0     0     0     0     0\n",
      "     0     0     0     0     0     0     0     0     0     0     0     0\n",
      "     0     0     0     0     0     0     0     0     0     0     0     0\n",
      "     0     0     0]\n",
      "[6 6 0 0 2 2 2 6 6 6 6 6 6 6 6 6 7 7 7 7 7 7 7 7 7 7 7 7 7 7 7 7 7 7 7 7 7\n",
      " 7 7 7 7 7 7 7 7 7 7 7 7 7 7 7 7 7 7 7 7 7 7 7 7 7 7 7 7 7 7 7 7 7 7 7 7 7\n",
      " 7]\n"
     ]
    },
    {
     "data": {
      "text/plain": [
       "(None, None, None)"
      ]
     },
     "execution_count": 36,
     "metadata": {},
     "output_type": "execute_result"
    }
   ],
   "source": [
    "len(tr_masks[0]),len(tr_input[0]), len(tr_tag[0])\n",
    "print(tr_masks[0]), print(tr_input[0]), print(tr_tag[0]) "
   ]
  },
  {
   "cell_type": "code",
   "execution_count": 37,
   "id": "164a9be0",
   "metadata": {
    "execution": {
     "iopub.execute_input": "2022-01-28T03:22:51.178304Z",
     "iopub.status.busy": "2022-01-28T03:22:51.177724Z",
     "iopub.status.idle": "2022-01-28T03:22:51.541606Z",
     "shell.execute_reply": "2022-01-28T03:22:51.541122Z",
     "shell.execute_reply.started": "2022-01-27T19:37:01.756277Z"
    },
    "papermill": {
     "duration": 0.412288,
     "end_time": "2022-01-28T03:22:51.541765",
     "exception": false,
     "start_time": "2022-01-28T03:22:51.129477",
     "status": "completed"
    },
    "tags": []
   },
   "outputs": [],
   "source": [
    "tr_input = torch.tensor(tr_input)\n",
    "val_input = torch.tensor(val_input)\n",
    "tr_tag = torch.tensor(tr_tag)\n",
    "val_tag = torch.tensor(val_tag)\n",
    "tr_masks = torch.tensor(tr_masks)\n",
    "val_masks = torch.tensor(val_masks)"
   ]
  },
  {
   "cell_type": "code",
   "execution_count": 38,
   "id": "9304ec0e",
   "metadata": {
    "execution": {
     "iopub.execute_input": "2022-01-28T03:22:51.634741Z",
     "iopub.status.busy": "2022-01-28T03:22:51.633825Z",
     "iopub.status.idle": "2022-01-28T03:22:51.635775Z",
     "shell.execute_reply": "2022-01-28T03:22:51.636165Z",
     "shell.execute_reply.started": "2022-01-27T19:37:02.312389Z"
    },
    "papermill": {
     "duration": 0.051316,
     "end_time": "2022-01-28T03:22:51.636306",
     "exception": false,
     "start_time": "2022-01-28T03:22:51.584990",
     "status": "completed"
    },
    "tags": []
   },
   "outputs": [],
   "source": [
    "train_data = TensorDataset(tr_input, tr_masks, tr_tag)\n",
    "train_sampler = RandomSampler(train_data)\n",
    "train_dataloader = DataLoader(train_data, sampler=train_sampler, batch_size=BATCH_SIZE)\n",
    "\n",
    "valid_data = TensorDataset(tr_input, tr_masks, tr_tag)\n",
    "valid_sampler = SequentialSampler(valid_data)\n",
    "valid_dataloader = DataLoader(valid_data, sampler=valid_sampler, batch_size=BATCH_SIZE)"
   ]
  },
  {
   "cell_type": "code",
   "execution_count": 39,
   "id": "e213dd70",
   "metadata": {
    "execution": {
     "iopub.execute_input": "2022-01-28T03:22:51.724966Z",
     "iopub.status.busy": "2022-01-28T03:22:51.724327Z",
     "iopub.status.idle": "2022-01-28T03:22:55.475695Z",
     "shell.execute_reply": "2022-01-28T03:22:55.475202Z",
     "shell.execute_reply.started": "2022-01-27T19:37:02.333805Z"
    },
    "papermill": {
     "duration": 3.797275,
     "end_time": "2022-01-28T03:22:55.475841",
     "exception": false,
     "start_time": "2022-01-28T03:22:51.678566",
     "status": "completed"
    },
    "tags": []
   },
   "outputs": [],
   "source": [
    "from transformers import BertForTokenClassification, AdamW"
   ]
  },
  {
   "cell_type": "code",
   "execution_count": 40,
   "id": "05474c0e",
   "metadata": {
    "execution": {
     "iopub.execute_input": "2022-01-28T03:22:55.565953Z",
     "iopub.status.busy": "2022-01-28T03:22:55.565154Z",
     "iopub.status.idle": "2022-01-28T03:23:12.461715Z",
     "shell.execute_reply": "2022-01-28T03:23:12.462187Z",
     "shell.execute_reply.started": "2022-01-27T19:37:06.420038Z"
    },
    "papermill": {
     "duration": 16.943791,
     "end_time": "2022-01-28T03:23:12.462365",
     "exception": false,
     "start_time": "2022-01-28T03:22:55.518574",
     "status": "completed"
    },
    "tags": []
   },
   "outputs": [
    {
     "data": {
      "application/vnd.jupyter.widget-view+json": {
       "model_id": "927ebc8210da4d1b8fcef3ffbb43d12a",
       "version_major": 2,
       "version_minor": 0
      },
      "text/plain": [
       "Downloading:   0%|          | 0.00/570 [00:00<?, ?B/s]"
      ]
     },
     "metadata": {},
     "output_type": "display_data"
    },
    {
     "data": {
      "application/vnd.jupyter.widget-view+json": {
       "model_id": "7d0b79db78eb401ca7e66c46a8461599",
       "version_major": 2,
       "version_minor": 0
      },
      "text/plain": [
       "Downloading:   0%|          | 0.00/436M [00:00<?, ?B/s]"
      ]
     },
     "metadata": {},
     "output_type": "display_data"
    },
    {
     "name": "stderr",
     "output_type": "stream",
     "text": [
      "Some weights of the model checkpoint at bert-base-cased were not used when initializing BertForTokenClassification: ['cls.predictions.bias', 'cls.predictions.transform.dense.weight', 'cls.predictions.transform.dense.bias', 'cls.predictions.decoder.weight', 'cls.seq_relationship.weight', 'cls.seq_relationship.bias', 'cls.predictions.transform.LayerNorm.weight', 'cls.predictions.transform.LayerNorm.bias']\n",
      "- This IS expected if you are initializing BertForTokenClassification from the checkpoint of a model trained on another task or with another architecture (e.g. initializing a BertForSequenceClassification model from a BertForPreTraining model).\n",
      "- This IS NOT expected if you are initializing BertForTokenClassification from the checkpoint of a model that you expect to be exactly identical (initializing a BertForSequenceClassification model from a BertForSequenceClassification model).\n",
      "Some weights of BertForTokenClassification were not initialized from the model checkpoint at bert-base-cased and are newly initialized: ['classifier.weight', 'classifier.bias']\n",
      "You should probably TRAIN this model on a down-stream task to be able to use it for predictions and inference.\n"
     ]
    }
   ],
   "source": [
    "model = BertForTokenClassification.from_pretrained(\n",
    "'bert-base-cased',\n",
    "num_labels=len(tag_idx),\n",
    "output_attentions = False,\n",
    "output_hidden_states = False)"
   ]
  },
  {
   "cell_type": "code",
   "execution_count": 41,
   "id": "1306120b",
   "metadata": {
    "execution": {
     "iopub.execute_input": "2022-01-28T03:23:12.555281Z",
     "iopub.status.busy": "2022-01-28T03:23:12.554457Z",
     "iopub.status.idle": "2022-01-28T03:23:12.556315Z",
     "shell.execute_reply": "2022-01-28T03:23:12.556760Z",
     "shell.execute_reply.started": "2022-01-27T19:37:21.198288Z"
    },
    "papermill": {
     "duration": 0.049885,
     "end_time": "2022-01-28T03:23:12.556896",
     "exception": false,
     "start_time": "2022-01-28T03:23:12.507011",
     "status": "completed"
    },
    "tags": []
   },
   "outputs": [],
   "source": [
    "# model.cuda()"
   ]
  },
  {
   "cell_type": "code",
   "execution_count": 42,
   "id": "118a81ea",
   "metadata": {
    "execution": {
     "iopub.execute_input": "2022-01-28T03:23:12.654001Z",
     "iopub.status.busy": "2022-01-28T03:23:12.653108Z",
     "iopub.status.idle": "2022-01-28T03:23:12.655346Z",
     "shell.execute_reply": "2022-01-28T03:23:12.655786Z",
     "shell.execute_reply.started": "2022-01-27T19:37:21.20638Z"
    },
    "papermill": {
     "duration": 0.055197,
     "end_time": "2022-01-28T03:23:12.655916",
     "exception": false,
     "start_time": "2022-01-28T03:23:12.600719",
     "status": "completed"
    },
    "tags": []
   },
   "outputs": [],
   "source": [
    "FULL_FINETUNING = True\n",
    "if FULL_FINETUNING:\n",
    "    param_optimizer = list(model.named_parameters())\n",
    "    no_decay = ['bias', 'gamma', 'beta']\n",
    "    optimizer_grouped_parameters = [\n",
    "        {'params': [p for n, p in param_optimizer if not any(nd in n for nd in no_decay)],\n",
    "         'weight_decay_rate': 0.01},\n",
    "        {'params': [p for n, p in param_optimizer if any(nd in n for nd in no_decay)],\n",
    "         'weight_decay_rate': 0.0}\n",
    "    ]\n",
    "else:\n",
    "    param_optimizer = list(model.classifier.named_parameters())\n",
    "    optimizer_grouped_parameters = [{\"params\": [p for n, p in param_optimizer]}]\n",
    "\n",
    "optimizer = AdamW(\n",
    "    optimizer_grouped_parameters,\n",
    "    lr=3e-5,\n",
    "    eps=1e-8\n",
    ")"
   ]
  },
  {
   "cell_type": "code",
   "execution_count": 43,
   "id": "6a6c23bd",
   "metadata": {
    "execution": {
     "iopub.execute_input": "2022-01-28T03:23:12.748747Z",
     "iopub.status.busy": "2022-01-28T03:23:12.747932Z",
     "iopub.status.idle": "2022-01-28T03:23:12.750314Z",
     "shell.execute_reply": "2022-01-28T03:23:12.749874Z",
     "shell.execute_reply.started": "2022-01-27T19:37:22.619064Z"
    },
    "papermill": {
     "duration": 0.050686,
     "end_time": "2022-01-28T03:23:12.750417",
     "exception": false,
     "start_time": "2022-01-28T03:23:12.699731",
     "status": "completed"
    },
    "tags": []
   },
   "outputs": [],
   "source": [
    "from transformers import get_linear_schedule_with_warmup\n",
    "\n",
    "epochs = 3\n",
    "max_grad_norm = 1.0\n",
    "\n",
    "# Total number of training steps is number of batches * number of epochs.\n",
    "total_steps = len(train_dataloader) * epochs\n",
    "\n",
    "# Create the learning rate scheduler.\n",
    "scheduler = get_linear_schedule_with_warmup(\n",
    "    optimizer,\n",
    "    num_warmup_steps=0,\n",
    "    num_training_steps=total_steps\n",
    ")"
   ]
  },
  {
   "cell_type": "code",
   "execution_count": 44,
   "id": "90794875",
   "metadata": {
    "execution": {
     "iopub.execute_input": "2022-01-28T03:23:12.841897Z",
     "iopub.status.busy": "2022-01-28T03:23:12.841201Z",
     "iopub.status.idle": "2022-01-28T03:23:25.383826Z",
     "shell.execute_reply": "2022-01-28T03:23:25.383315Z",
     "shell.execute_reply.started": "2022-01-27T19:37:22.63258Z"
    },
    "papermill": {
     "duration": 12.589715,
     "end_time": "2022-01-28T03:23:25.383963",
     "exception": false,
     "start_time": "2022-01-28T03:23:12.794248",
     "status": "completed"
    },
    "tags": []
   },
   "outputs": [
    {
     "name": "stdout",
     "output_type": "stream",
     "text": [
      "Collecting seqeval\r\n",
      "  Downloading seqeval-1.2.2.tar.gz (43 kB)\r\n",
      "\u001b[K     |████████████████████████████████| 43 kB 1.0 MB/s \r\n",
      "\u001b[?25hRequirement already satisfied: numpy>=1.14.0 in /opt/conda/lib/python3.7/site-packages (from seqeval) (1.19.5)\r\n",
      "Requirement already satisfied: scikit-learn>=0.21.3 in /opt/conda/lib/python3.7/site-packages (from seqeval) (0.23.2)\r\n",
      "Requirement already satisfied: scipy>=0.19.1 in /opt/conda/lib/python3.7/site-packages (from scikit-learn>=0.21.3->seqeval) (1.7.1)\r\n",
      "Requirement already satisfied: joblib>=0.11 in /opt/conda/lib/python3.7/site-packages (from scikit-learn>=0.21.3->seqeval) (1.0.1)\r\n",
      "Requirement already satisfied: threadpoolctl>=2.0.0 in /opt/conda/lib/python3.7/site-packages (from scikit-learn>=0.21.3->seqeval) (2.2.0)\r\n",
      "Building wheels for collected packages: seqeval\r\n",
      "  Building wheel for seqeval (setup.py) ... \u001b[?25l-\b \b\\\b \bdone\r\n",
      "\u001b[?25h  Created wheel for seqeval: filename=seqeval-1.2.2-py3-none-any.whl size=16181 sha256=ce7a0c50669efc274729ac7402155e0b5859cb4ec091ba837d71479ef17a5b89\r\n",
      "  Stored in directory: /root/.cache/pip/wheels/05/96/ee/7cac4e74f3b19e3158dce26a20a1c86b3533c43ec72a549fd7\r\n",
      "Successfully built seqeval\r\n",
      "Installing collected packages: seqeval\r\n",
      "Successfully installed seqeval-1.2.2\r\n",
      "\u001b[33mWARNING: Running pip as the 'root' user can result in broken permissions and conflicting behaviour with the system package manager. It is recommended to use a virtual environment instead: https://pip.pypa.io/warnings/venv\u001b[0m\r\n"
     ]
    }
   ],
   "source": [
    "!pip install seqeval"
   ]
  },
  {
   "cell_type": "code",
   "execution_count": 45,
   "id": "c615d0ac",
   "metadata": {
    "execution": {
     "iopub.execute_input": "2022-01-28T03:23:25.481559Z",
     "iopub.status.busy": "2022-01-28T03:23:25.480736Z",
     "iopub.status.idle": "2022-01-28T03:23:25.491317Z",
     "shell.execute_reply": "2022-01-28T03:23:25.490901Z",
     "shell.execute_reply.started": "2022-01-27T19:37:34.760171Z"
    },
    "papermill": {
     "duration": 0.060212,
     "end_time": "2022-01-28T03:23:25.491437",
     "exception": false,
     "start_time": "2022-01-28T03:23:25.431225",
     "status": "completed"
    },
    "tags": []
   },
   "outputs": [],
   "source": [
    "from seqeval.metrics import f1_score, accuracy_score"
   ]
  },
  {
   "cell_type": "code",
   "execution_count": 46,
   "id": "4804de52",
   "metadata": {
    "execution": {
     "iopub.execute_input": "2022-01-28T03:23:25.587411Z",
     "iopub.status.busy": "2022-01-28T03:23:25.586789Z",
     "iopub.status.idle": "2022-01-28T03:23:25.589028Z",
     "shell.execute_reply": "2022-01-28T03:23:25.589442Z",
     "shell.execute_reply.started": "2022-01-27T19:37:34.774918Z"
    },
    "papermill": {
     "duration": 0.051828,
     "end_time": "2022-01-28T03:23:25.589566",
     "exception": false,
     "start_time": "2022-01-28T03:23:25.537738",
     "status": "completed"
    },
    "tags": []
   },
   "outputs": [],
   "source": [
    "from tqdm import tqdm, trange"
   ]
  },
  {
   "cell_type": "code",
   "execution_count": 47,
   "id": "3ef7c1fe",
   "metadata": {
    "execution": {
     "iopub.execute_input": "2022-01-28T03:23:25.688404Z",
     "iopub.status.busy": "2022-01-28T03:23:25.687653Z",
     "iopub.status.idle": "2022-01-28T03:23:30.347499Z",
     "shell.execute_reply": "2022-01-28T03:23:30.348430Z",
     "shell.execute_reply.started": "2022-01-27T19:37:34.78658Z"
    },
    "papermill": {
     "duration": 4.712881,
     "end_time": "2022-01-28T03:23:30.348607",
     "exception": false,
     "start_time": "2022-01-28T03:23:25.635726",
     "status": "completed"
    },
    "tags": []
   },
   "outputs": [
    {
     "data": {
      "text/plain": [
       "BertForTokenClassification(\n",
       "  (bert): BertModel(\n",
       "    (embeddings): BertEmbeddings(\n",
       "      (word_embeddings): Embedding(28996, 768, padding_idx=0)\n",
       "      (position_embeddings): Embedding(512, 768)\n",
       "      (token_type_embeddings): Embedding(2, 768)\n",
       "      (LayerNorm): LayerNorm((768,), eps=1e-12, elementwise_affine=True)\n",
       "      (dropout): Dropout(p=0.1, inplace=False)\n",
       "    )\n",
       "    (encoder): BertEncoder(\n",
       "      (layer): ModuleList(\n",
       "        (0): BertLayer(\n",
       "          (attention): BertAttention(\n",
       "            (self): BertSelfAttention(\n",
       "              (query): Linear(in_features=768, out_features=768, bias=True)\n",
       "              (key): Linear(in_features=768, out_features=768, bias=True)\n",
       "              (value): Linear(in_features=768, out_features=768, bias=True)\n",
       "              (dropout): Dropout(p=0.1, inplace=False)\n",
       "            )\n",
       "            (output): BertSelfOutput(\n",
       "              (dense): Linear(in_features=768, out_features=768, bias=True)\n",
       "              (LayerNorm): LayerNorm((768,), eps=1e-12, elementwise_affine=True)\n",
       "              (dropout): Dropout(p=0.1, inplace=False)\n",
       "            )\n",
       "          )\n",
       "          (intermediate): BertIntermediate(\n",
       "            (dense): Linear(in_features=768, out_features=3072, bias=True)\n",
       "          )\n",
       "          (output): BertOutput(\n",
       "            (dense): Linear(in_features=3072, out_features=768, bias=True)\n",
       "            (LayerNorm): LayerNorm((768,), eps=1e-12, elementwise_affine=True)\n",
       "            (dropout): Dropout(p=0.1, inplace=False)\n",
       "          )\n",
       "        )\n",
       "        (1): BertLayer(\n",
       "          (attention): BertAttention(\n",
       "            (self): BertSelfAttention(\n",
       "              (query): Linear(in_features=768, out_features=768, bias=True)\n",
       "              (key): Linear(in_features=768, out_features=768, bias=True)\n",
       "              (value): Linear(in_features=768, out_features=768, bias=True)\n",
       "              (dropout): Dropout(p=0.1, inplace=False)\n",
       "            )\n",
       "            (output): BertSelfOutput(\n",
       "              (dense): Linear(in_features=768, out_features=768, bias=True)\n",
       "              (LayerNorm): LayerNorm((768,), eps=1e-12, elementwise_affine=True)\n",
       "              (dropout): Dropout(p=0.1, inplace=False)\n",
       "            )\n",
       "          )\n",
       "          (intermediate): BertIntermediate(\n",
       "            (dense): Linear(in_features=768, out_features=3072, bias=True)\n",
       "          )\n",
       "          (output): BertOutput(\n",
       "            (dense): Linear(in_features=3072, out_features=768, bias=True)\n",
       "            (LayerNorm): LayerNorm((768,), eps=1e-12, elementwise_affine=True)\n",
       "            (dropout): Dropout(p=0.1, inplace=False)\n",
       "          )\n",
       "        )\n",
       "        (2): BertLayer(\n",
       "          (attention): BertAttention(\n",
       "            (self): BertSelfAttention(\n",
       "              (query): Linear(in_features=768, out_features=768, bias=True)\n",
       "              (key): Linear(in_features=768, out_features=768, bias=True)\n",
       "              (value): Linear(in_features=768, out_features=768, bias=True)\n",
       "              (dropout): Dropout(p=0.1, inplace=False)\n",
       "            )\n",
       "            (output): BertSelfOutput(\n",
       "              (dense): Linear(in_features=768, out_features=768, bias=True)\n",
       "              (LayerNorm): LayerNorm((768,), eps=1e-12, elementwise_affine=True)\n",
       "              (dropout): Dropout(p=0.1, inplace=False)\n",
       "            )\n",
       "          )\n",
       "          (intermediate): BertIntermediate(\n",
       "            (dense): Linear(in_features=768, out_features=3072, bias=True)\n",
       "          )\n",
       "          (output): BertOutput(\n",
       "            (dense): Linear(in_features=3072, out_features=768, bias=True)\n",
       "            (LayerNorm): LayerNorm((768,), eps=1e-12, elementwise_affine=True)\n",
       "            (dropout): Dropout(p=0.1, inplace=False)\n",
       "          )\n",
       "        )\n",
       "        (3): BertLayer(\n",
       "          (attention): BertAttention(\n",
       "            (self): BertSelfAttention(\n",
       "              (query): Linear(in_features=768, out_features=768, bias=True)\n",
       "              (key): Linear(in_features=768, out_features=768, bias=True)\n",
       "              (value): Linear(in_features=768, out_features=768, bias=True)\n",
       "              (dropout): Dropout(p=0.1, inplace=False)\n",
       "            )\n",
       "            (output): BertSelfOutput(\n",
       "              (dense): Linear(in_features=768, out_features=768, bias=True)\n",
       "              (LayerNorm): LayerNorm((768,), eps=1e-12, elementwise_affine=True)\n",
       "              (dropout): Dropout(p=0.1, inplace=False)\n",
       "            )\n",
       "          )\n",
       "          (intermediate): BertIntermediate(\n",
       "            (dense): Linear(in_features=768, out_features=3072, bias=True)\n",
       "          )\n",
       "          (output): BertOutput(\n",
       "            (dense): Linear(in_features=3072, out_features=768, bias=True)\n",
       "            (LayerNorm): LayerNorm((768,), eps=1e-12, elementwise_affine=True)\n",
       "            (dropout): Dropout(p=0.1, inplace=False)\n",
       "          )\n",
       "        )\n",
       "        (4): BertLayer(\n",
       "          (attention): BertAttention(\n",
       "            (self): BertSelfAttention(\n",
       "              (query): Linear(in_features=768, out_features=768, bias=True)\n",
       "              (key): Linear(in_features=768, out_features=768, bias=True)\n",
       "              (value): Linear(in_features=768, out_features=768, bias=True)\n",
       "              (dropout): Dropout(p=0.1, inplace=False)\n",
       "            )\n",
       "            (output): BertSelfOutput(\n",
       "              (dense): Linear(in_features=768, out_features=768, bias=True)\n",
       "              (LayerNorm): LayerNorm((768,), eps=1e-12, elementwise_affine=True)\n",
       "              (dropout): Dropout(p=0.1, inplace=False)\n",
       "            )\n",
       "          )\n",
       "          (intermediate): BertIntermediate(\n",
       "            (dense): Linear(in_features=768, out_features=3072, bias=True)\n",
       "          )\n",
       "          (output): BertOutput(\n",
       "            (dense): Linear(in_features=3072, out_features=768, bias=True)\n",
       "            (LayerNorm): LayerNorm((768,), eps=1e-12, elementwise_affine=True)\n",
       "            (dropout): Dropout(p=0.1, inplace=False)\n",
       "          )\n",
       "        )\n",
       "        (5): BertLayer(\n",
       "          (attention): BertAttention(\n",
       "            (self): BertSelfAttention(\n",
       "              (query): Linear(in_features=768, out_features=768, bias=True)\n",
       "              (key): Linear(in_features=768, out_features=768, bias=True)\n",
       "              (value): Linear(in_features=768, out_features=768, bias=True)\n",
       "              (dropout): Dropout(p=0.1, inplace=False)\n",
       "            )\n",
       "            (output): BertSelfOutput(\n",
       "              (dense): Linear(in_features=768, out_features=768, bias=True)\n",
       "              (LayerNorm): LayerNorm((768,), eps=1e-12, elementwise_affine=True)\n",
       "              (dropout): Dropout(p=0.1, inplace=False)\n",
       "            )\n",
       "          )\n",
       "          (intermediate): BertIntermediate(\n",
       "            (dense): Linear(in_features=768, out_features=3072, bias=True)\n",
       "          )\n",
       "          (output): BertOutput(\n",
       "            (dense): Linear(in_features=3072, out_features=768, bias=True)\n",
       "            (LayerNorm): LayerNorm((768,), eps=1e-12, elementwise_affine=True)\n",
       "            (dropout): Dropout(p=0.1, inplace=False)\n",
       "          )\n",
       "        )\n",
       "        (6): BertLayer(\n",
       "          (attention): BertAttention(\n",
       "            (self): BertSelfAttention(\n",
       "              (query): Linear(in_features=768, out_features=768, bias=True)\n",
       "              (key): Linear(in_features=768, out_features=768, bias=True)\n",
       "              (value): Linear(in_features=768, out_features=768, bias=True)\n",
       "              (dropout): Dropout(p=0.1, inplace=False)\n",
       "            )\n",
       "            (output): BertSelfOutput(\n",
       "              (dense): Linear(in_features=768, out_features=768, bias=True)\n",
       "              (LayerNorm): LayerNorm((768,), eps=1e-12, elementwise_affine=True)\n",
       "              (dropout): Dropout(p=0.1, inplace=False)\n",
       "            )\n",
       "          )\n",
       "          (intermediate): BertIntermediate(\n",
       "            (dense): Linear(in_features=768, out_features=3072, bias=True)\n",
       "          )\n",
       "          (output): BertOutput(\n",
       "            (dense): Linear(in_features=3072, out_features=768, bias=True)\n",
       "            (LayerNorm): LayerNorm((768,), eps=1e-12, elementwise_affine=True)\n",
       "            (dropout): Dropout(p=0.1, inplace=False)\n",
       "          )\n",
       "        )\n",
       "        (7): BertLayer(\n",
       "          (attention): BertAttention(\n",
       "            (self): BertSelfAttention(\n",
       "              (query): Linear(in_features=768, out_features=768, bias=True)\n",
       "              (key): Linear(in_features=768, out_features=768, bias=True)\n",
       "              (value): Linear(in_features=768, out_features=768, bias=True)\n",
       "              (dropout): Dropout(p=0.1, inplace=False)\n",
       "            )\n",
       "            (output): BertSelfOutput(\n",
       "              (dense): Linear(in_features=768, out_features=768, bias=True)\n",
       "              (LayerNorm): LayerNorm((768,), eps=1e-12, elementwise_affine=True)\n",
       "              (dropout): Dropout(p=0.1, inplace=False)\n",
       "            )\n",
       "          )\n",
       "          (intermediate): BertIntermediate(\n",
       "            (dense): Linear(in_features=768, out_features=3072, bias=True)\n",
       "          )\n",
       "          (output): BertOutput(\n",
       "            (dense): Linear(in_features=3072, out_features=768, bias=True)\n",
       "            (LayerNorm): LayerNorm((768,), eps=1e-12, elementwise_affine=True)\n",
       "            (dropout): Dropout(p=0.1, inplace=False)\n",
       "          )\n",
       "        )\n",
       "        (8): BertLayer(\n",
       "          (attention): BertAttention(\n",
       "            (self): BertSelfAttention(\n",
       "              (query): Linear(in_features=768, out_features=768, bias=True)\n",
       "              (key): Linear(in_features=768, out_features=768, bias=True)\n",
       "              (value): Linear(in_features=768, out_features=768, bias=True)\n",
       "              (dropout): Dropout(p=0.1, inplace=False)\n",
       "            )\n",
       "            (output): BertSelfOutput(\n",
       "              (dense): Linear(in_features=768, out_features=768, bias=True)\n",
       "              (LayerNorm): LayerNorm((768,), eps=1e-12, elementwise_affine=True)\n",
       "              (dropout): Dropout(p=0.1, inplace=False)\n",
       "            )\n",
       "          )\n",
       "          (intermediate): BertIntermediate(\n",
       "            (dense): Linear(in_features=768, out_features=3072, bias=True)\n",
       "          )\n",
       "          (output): BertOutput(\n",
       "            (dense): Linear(in_features=3072, out_features=768, bias=True)\n",
       "            (LayerNorm): LayerNorm((768,), eps=1e-12, elementwise_affine=True)\n",
       "            (dropout): Dropout(p=0.1, inplace=False)\n",
       "          )\n",
       "        )\n",
       "        (9): BertLayer(\n",
       "          (attention): BertAttention(\n",
       "            (self): BertSelfAttention(\n",
       "              (query): Linear(in_features=768, out_features=768, bias=True)\n",
       "              (key): Linear(in_features=768, out_features=768, bias=True)\n",
       "              (value): Linear(in_features=768, out_features=768, bias=True)\n",
       "              (dropout): Dropout(p=0.1, inplace=False)\n",
       "            )\n",
       "            (output): BertSelfOutput(\n",
       "              (dense): Linear(in_features=768, out_features=768, bias=True)\n",
       "              (LayerNorm): LayerNorm((768,), eps=1e-12, elementwise_affine=True)\n",
       "              (dropout): Dropout(p=0.1, inplace=False)\n",
       "            )\n",
       "          )\n",
       "          (intermediate): BertIntermediate(\n",
       "            (dense): Linear(in_features=768, out_features=3072, bias=True)\n",
       "          )\n",
       "          (output): BertOutput(\n",
       "            (dense): Linear(in_features=3072, out_features=768, bias=True)\n",
       "            (LayerNorm): LayerNorm((768,), eps=1e-12, elementwise_affine=True)\n",
       "            (dropout): Dropout(p=0.1, inplace=False)\n",
       "          )\n",
       "        )\n",
       "        (10): BertLayer(\n",
       "          (attention): BertAttention(\n",
       "            (self): BertSelfAttention(\n",
       "              (query): Linear(in_features=768, out_features=768, bias=True)\n",
       "              (key): Linear(in_features=768, out_features=768, bias=True)\n",
       "              (value): Linear(in_features=768, out_features=768, bias=True)\n",
       "              (dropout): Dropout(p=0.1, inplace=False)\n",
       "            )\n",
       "            (output): BertSelfOutput(\n",
       "              (dense): Linear(in_features=768, out_features=768, bias=True)\n",
       "              (LayerNorm): LayerNorm((768,), eps=1e-12, elementwise_affine=True)\n",
       "              (dropout): Dropout(p=0.1, inplace=False)\n",
       "            )\n",
       "          )\n",
       "          (intermediate): BertIntermediate(\n",
       "            (dense): Linear(in_features=768, out_features=3072, bias=True)\n",
       "          )\n",
       "          (output): BertOutput(\n",
       "            (dense): Linear(in_features=3072, out_features=768, bias=True)\n",
       "            (LayerNorm): LayerNorm((768,), eps=1e-12, elementwise_affine=True)\n",
       "            (dropout): Dropout(p=0.1, inplace=False)\n",
       "          )\n",
       "        )\n",
       "        (11): BertLayer(\n",
       "          (attention): BertAttention(\n",
       "            (self): BertSelfAttention(\n",
       "              (query): Linear(in_features=768, out_features=768, bias=True)\n",
       "              (key): Linear(in_features=768, out_features=768, bias=True)\n",
       "              (value): Linear(in_features=768, out_features=768, bias=True)\n",
       "              (dropout): Dropout(p=0.1, inplace=False)\n",
       "            )\n",
       "            (output): BertSelfOutput(\n",
       "              (dense): Linear(in_features=768, out_features=768, bias=True)\n",
       "              (LayerNorm): LayerNorm((768,), eps=1e-12, elementwise_affine=True)\n",
       "              (dropout): Dropout(p=0.1, inplace=False)\n",
       "            )\n",
       "          )\n",
       "          (intermediate): BertIntermediate(\n",
       "            (dense): Linear(in_features=768, out_features=3072, bias=True)\n",
       "          )\n",
       "          (output): BertOutput(\n",
       "            (dense): Linear(in_features=3072, out_features=768, bias=True)\n",
       "            (LayerNorm): LayerNorm((768,), eps=1e-12, elementwise_affine=True)\n",
       "            (dropout): Dropout(p=0.1, inplace=False)\n",
       "          )\n",
       "        )\n",
       "      )\n",
       "    )\n",
       "  )\n",
       "  (dropout): Dropout(p=0.1, inplace=False)\n",
       "  (classifier): Linear(in_features=768, out_features=8, bias=True)\n",
       ")"
      ]
     },
     "execution_count": 47,
     "metadata": {},
     "output_type": "execute_result"
    }
   ],
   "source": [
    "model.cuda()"
   ]
  },
  {
   "cell_type": "code",
   "execution_count": 48,
   "id": "dc3c76d2",
   "metadata": {
    "execution": {
     "iopub.execute_input": "2022-01-28T03:23:30.457875Z",
     "iopub.status.busy": "2022-01-28T03:23:30.456992Z",
     "iopub.status.idle": "2022-01-28T03:49:39.542802Z",
     "shell.execute_reply": "2022-01-28T03:49:39.542048Z",
     "shell.execute_reply.started": "2022-01-27T19:37:39.829936Z"
    },
    "papermill": {
     "duration": 1569.146196,
     "end_time": "2022-01-28T03:49:39.542990",
     "exception": false,
     "start_time": "2022-01-28T03:23:30.396794",
     "status": "completed"
    },
    "tags": []
   },
   "outputs": [
    {
     "name": "stderr",
     "output_type": "stream",
     "text": [
      "Epoch:   0%|          | 0/3 [00:00<?, ?it/s]/opt/conda/lib/python3.7/site-packages/ipykernel_launcher.py:25: UserWarning: torch.nn.utils.clip_grad_norm is now deprecated in favor of torch.nn.utils.clip_grad_norm_.\n"
     ]
    },
    {
     "name": "stdout",
     "output_type": "stream",
     "text": [
      "Average train loss : 0.12598469735449766\n",
      "Validation loss: 0.07246540861671653\n",
      "Validation Accuracy: 0.9741798586995569\n"
     ]
    },
    {
     "name": "stderr",
     "output_type": "stream",
     "text": [
      "Epoch:  33%|███▎      | 1/3 [08:42<17:25, 522.64s/it]"
     ]
    },
    {
     "name": "stdout",
     "output_type": "stream",
     "text": [
      "Validation F-1 Score:0.8476542384518787\n",
      "Average train loss : 0.07481035637946108\n",
      "Validation loss: 0.04774637925999948\n",
      "Validation Accuracy: 0.982969225242486\n"
     ]
    },
    {
     "name": "stderr",
     "output_type": "stream",
     "text": [
      "Epoch:  67%|██████▋   | 2/3 [17:25<08:42, 522.83s/it]"
     ]
    },
    {
     "name": "stdout",
     "output_type": "stream",
     "text": [
      "Validation F-1 Score:0.892770398995964\n",
      "Average train loss : 0.05010581047775906\n",
      "Validation loss: 0.03322783091005502\n",
      "Validation Accuracy: 0.9882313495389774\n"
     ]
    },
    {
     "name": "stderr",
     "output_type": "stream",
     "text": [
      "Epoch: 100%|██████████| 3/3 [26:09<00:00, 523.02s/it]"
     ]
    },
    {
     "name": "stdout",
     "output_type": "stream",
     "text": [
      "Validation F-1 Score:0.9227614862020739\n"
     ]
    },
    {
     "name": "stderr",
     "output_type": "stream",
     "text": [
      "\n"
     ]
    }
   ],
   "source": [
    "#storing loss values\n",
    "loss_values, validation_loss_values = [], []\n",
    "\n",
    "#TRAINING AND VALIDATION\n",
    "\n",
    "for _ in trange(epochs, desc= \"Epoch\"):\n",
    "    #/|\\==>TRAINLOOP(ONEPASS)<==\\|/\n",
    "    model.train()\n",
    "    total_loss=0 #so it resets each epoch\n",
    "    \n",
    "    for step, batch in enumerate(train_dataloader):\n",
    "        batch = tuple(t.to(device) for t in batch)\n",
    "        b_input_ids, b_input_mask, b_labels = batch #also the order in train_data/val_data\n",
    "        \n",
    "        model.zero_grad() #clearing previous gradients for each epoch\n",
    "        \n",
    "        outputs = model(b_input_ids, token_type_ids=None,\n",
    "                       attention_mask=b_input_mask, labels=b_labels)#forward pass\n",
    "        \n",
    "        loss = outputs[0]\n",
    "        loss.backward() #getting the loss and performing backward pass\n",
    "        \n",
    "        total_loss += loss.item() #tracking loss\n",
    "        \n",
    "        torch.nn.utils.clip_grad_norm(parameters=model.parameters(), max_norm=max_grad_norm)\n",
    "        #^^^ preventing exploding grads\n",
    "        \n",
    "        optimizer.step() #updates parameters\n",
    "        \n",
    "        scheduler.step() #update learning_rate\n",
    "        \n",
    "    avg_train_loss = total_loss/len(train_dataloader) \n",
    "    print('Average train loss : {}'.format(avg_train_loss))\n",
    "    \n",
    "    loss_values.append(avg_train_loss) #storing loss values if you choose to plot learning curve\n",
    "    \n",
    "    #/|\\==>VALIDATION(ONEPASS)<==\\|/\n",
    "    model.eval()\n",
    "    \n",
    "    eval_loss, eval_accuracy = 0, 0 \n",
    "    nb_eval_steps, nb_eval_examples = 0, 0\n",
    "    predictions, true_labels = [], []\n",
    "    \n",
    "    for batch in valid_dataloader:\n",
    "        batch = tuple(t.to(device)for t in batch)\n",
    "        b_input_ids, b_input_mask, b_labels = batch\n",
    "        \n",
    "        with torch.no_grad():\n",
    "            outputs = model(b_input_ids, token_type_ids =None,\n",
    "                           attention_mask=b_input_mask, labels=b_labels)\n",
    "            \n",
    "        logits = outputs[1].detach().cpu().numpy()\n",
    "        label_ids = b_labels.to('cpu').numpy()\n",
    "        \n",
    "        eval_loss += outputs[0].mean().item()\n",
    "        predictions.extend([list(p) for p in np.argmax(logits, axis=2)])\n",
    "        true_labels.extend(label_ids)\n",
    "    eval_loss = eval_loss / len(valid_dataloader)\n",
    "    validation_loss_values.append(eval_loss)\n",
    "    print('Validation loss: {}'.format(eval_loss))\n",
    "    \n",
    "    pred_tags = [tag_values[p_i] for p, l in zip(predictions, true_labels)\n",
    "                for p_i, l_i, in zip(p,l)if tag_values[l_i] !='PAD']\n",
    "    \n",
    "    valid_tags = [tag_values[l_i]for l in true_labels\n",
    "                 for l_i in l if tag_values[l_i] !='PAD']\n",
    "    \n",
    "    print('Validation Accuracy: {}'.format(accuracy_score(pred_tags,valid_tags)))\n",
    "    print('Validation F-1 Score:{}'.format(f1_score([pred_tags], [valid_tags])))\n",
    "    \n",
    "        \n"
   ]
  },
  {
   "cell_type": "code",
   "execution_count": 49,
   "id": "9bf8e5e3",
   "metadata": {
    "execution": {
     "iopub.execute_input": "2022-01-28T03:49:39.656272Z",
     "iopub.status.busy": "2022-01-28T03:49:39.655684Z",
     "iopub.status.idle": "2022-01-28T03:49:40.007320Z",
     "shell.execute_reply": "2022-01-28T03:49:40.007837Z",
     "shell.execute_reply.started": "2022-01-27T20:03:41.330123Z"
    },
    "papermill": {
     "duration": 0.411934,
     "end_time": "2022-01-28T03:49:40.008003",
     "exception": false,
     "start_time": "2022-01-28T03:49:39.596069",
     "status": "completed"
    },
    "tags": []
   },
   "outputs": [
    {
     "data": {
      "image/png": "[encoded data removed]",
      "text/plain": [
       "<Figure size 864x432 with 1 Axes>"
      ]
     },
     "metadata": {},
     "output_type": "display_data"
    }
   ],
   "source": [
    "import matplotlib.pyplot as plt\n",
    "%matplotlib inline\n",
    "\n",
    "import seaborn as sns\n",
    "\n",
    "sns.set(style='darkgrid')\n",
    "\n",
    "plt.rcParams['figure.figsize'] = (12,6)\n",
    "\n",
    "# Plot the learning curve.\n",
    "plt.plot(loss_values, 'b-o', label=\"training loss\")\n",
    "plt.plot(validation_loss_values, 'r-o', label=\"validation loss\")\n",
    "\n",
    "# Label the plot.\n",
    "plt.title(\"Learning curve\")\n",
    "plt.xlabel(\"Epoch\")\n",
    "plt.ylabel(\"Loss\")\n",
    "plt.legend()\n",
    "\n",
    "plt.show()"
   ]
  },
  {
   "cell_type": "code",
   "execution_count": 50,
   "id": "693ec064",
   "metadata": {
    "execution": {
     "iopub.execute_input": "2022-01-28T03:49:40.118638Z",
     "iopub.status.busy": "2022-01-28T03:49:40.118001Z",
     "iopub.status.idle": "2022-01-28T03:49:40.120244Z",
     "shell.execute_reply": "2022-01-28T03:49:40.120650Z",
     "shell.execute_reply.started": "2022-01-27T20:21:52.589537Z"
    },
    "papermill": {
     "duration": 0.059392,
     "end_time": "2022-01-28T03:49:40.120785",
     "exception": false,
     "start_time": "2022-01-28T03:49:40.061393",
     "status": "completed"
    },
    "tags": []
   },
   "outputs": [],
   "source": [
    "test_sentence = \"\"\"Mark Elliot Zuckerberg is an American internet entrepreneur. He is known for co-founding the social media website Facebook and its parent company Meta, located in Menlo Park, California.\"\"\""
   ]
  },
  {
   "cell_type": "code",
   "execution_count": 51,
   "id": "002efdab",
   "metadata": {
    "execution": {
     "iopub.execute_input": "2022-01-28T03:49:40.232231Z",
     "iopub.status.busy": "2022-01-28T03:49:40.231636Z",
     "iopub.status.idle": "2022-01-28T03:49:40.234195Z",
     "shell.execute_reply": "2022-01-28T03:49:40.234578Z",
     "shell.execute_reply.started": "2022-01-27T20:21:55.195034Z"
    },
    "papermill": {
     "duration": 0.061022,
     "end_time": "2022-01-28T03:49:40.234722",
     "exception": false,
     "start_time": "2022-01-28T03:49:40.173700",
     "status": "completed"
    },
    "tags": []
   },
   "outputs": [],
   "source": [
    "tokenized_sentence = tokenizer.encode(test_sentence)\n",
    "input_ids = torch.tensor([tokenized_sentence]).cuda()"
   ]
  },
  {
   "cell_type": "code",
   "execution_count": 52,
   "id": "fe38ba16",
   "metadata": {
    "execution": {
     "iopub.execute_input": "2022-01-28T03:49:40.343608Z",
     "iopub.status.busy": "2022-01-28T03:49:40.342747Z",
     "iopub.status.idle": "2022-01-28T03:49:40.356103Z",
     "shell.execute_reply": "2022-01-28T03:49:40.356536Z",
     "shell.execute_reply.started": "2022-01-27T20:22:00.882713Z"
    },
    "papermill": {
     "duration": 0.068951,
     "end_time": "2022-01-28T03:49:40.356675",
     "exception": false,
     "start_time": "2022-01-28T03:49:40.287724",
     "status": "completed"
    },
    "tags": []
   },
   "outputs": [],
   "source": [
    "with torch.no_grad():\n",
    "    output = model(input_ids)\n",
    "    label_indices = np.argmax(output[0].to('cpu').numpy(),axis=2)"
   ]
  },
  {
   "cell_type": "code",
   "execution_count": 53,
   "id": "279efc4c",
   "metadata": {
    "execution": {
     "iopub.execute_input": "2022-01-28T03:49:40.468684Z",
     "iopub.status.busy": "2022-01-28T03:49:40.464403Z",
     "iopub.status.idle": "2022-01-28T03:49:40.471065Z",
     "shell.execute_reply": "2022-01-28T03:49:40.470602Z",
     "shell.execute_reply.started": "2022-01-27T20:22:03.029377Z"
    },
    "papermill": {
     "duration": 0.061814,
     "end_time": "2022-01-28T03:49:40.471169",
     "exception": false,
     "start_time": "2022-01-28T03:49:40.409355",
     "status": "completed"
    },
    "tags": []
   },
   "outputs": [],
   "source": [
    "tokens = tokenizer.convert_ids_to_tokens(input_ids.to('cpu').numpy()[0])\n",
    "\n",
    "new_tokens, new_labels = [], []\n",
    "\n",
    "for token, label_idx in zip(tokens, label_indices[0]):\n",
    "    if token.startswith('##'):\n",
    "        new_tokens[-1] = new_tokens[-1] + token[2:]\n",
    "    else:\n",
    "        new_labels.append(tag_values[label_idx])\n",
    "        new_tokens.append(token)"
   ]
  },
  {
   "cell_type": "code",
   "execution_count": 54,
   "id": "378bee69",
   "metadata": {
    "execution": {
     "iopub.execute_input": "2022-01-28T03:49:40.601248Z",
     "iopub.status.busy": "2022-01-28T03:49:40.586752Z",
     "iopub.status.idle": "2022-01-28T03:49:40.607155Z",
     "shell.execute_reply": "2022-01-28T03:49:40.607761Z"
    },
    "papermill": {
     "duration": 0.082722,
     "end_time": "2022-01-28T03:49:40.607934",
     "exception": false,
     "start_time": "2022-01-28T03:49:40.525212",
     "status": "completed"
    },
    "tags": []
   },
   "outputs": [
    {
     "name": "stdout",
     "output_type": "stream",
     "text": [
      "                                   Free flow of Text  \\\n",
      "0  Mark Elliot Zuckerberg is an American internet...   \n",
      "\n",
      "             Extracted Name        Extracted Location Extracted Organization  \n",
      "0  [Mark Elliot Zuckerberg]  [Menlo Park, California]       [Facebook, Meta]  \n"
     ]
    }
   ],
   "source": [
    "names = []\n",
    "locs = []\n",
    "orgs = []\n",
    "\n",
    "curr_name = \"\"\n",
    "curr_loc = \"\"\n",
    "curr_org = \"\"\n",
    "for i in range(len(new_tokens)):\n",
    "    if new_labels[i] != 'O':\n",
    "        leb = new_labels[i]\n",
    "        if leb == \"B-per\":\n",
    "            if curr_loc != \"\":\n",
    "                locs.append(curr_loc)\n",
    "                curr_loc = \"\"\n",
    "            if curr_org != \"\":\n",
    "                orgs.append(curr_org)\n",
    "                curr_org = \"\"\n",
    "            if curr_name != \"\":\n",
    "                curr_name += \" \"\n",
    "            curr_name += new_tokens[i]\n",
    "        \n",
    "        \n",
    "        if leb == \"I-per\":\n",
    "            if curr_loc != \"\":\n",
    "                locs.append(curr_loc)\n",
    "                curr_loc = \"\"\n",
    "            if curr_org != \"\":\n",
    "                orgs.append(curr_org)\n",
    "                curr_org = \"\"\n",
    "            if curr_name != \"\":\n",
    "                curr_name += \" \"\n",
    "            curr_name += new_tokens[i]\n",
    "        \n",
    "        if leb == \"B-geo\":\n",
    "            if curr_name != \"\":\n",
    "                names.append(curr_name)\n",
    "                curr_name = \"\"\n",
    "            if curr_org != \"\":\n",
    "                orgs.append(curr_org)\n",
    "                curr_org = \"\"\n",
    "            if curr_loc != \"\":\n",
    "                curr_loc += \" \"\n",
    "            curr_loc += new_tokens[i]\n",
    "        \n",
    "        if leb == \"I-geo\":\n",
    "            if curr_name != \"\":\n",
    "                names.append(curr_name)\n",
    "                curr_name = \"\"\n",
    "            if curr_org != \"\":\n",
    "                orgs.append(curr_org)\n",
    "                curr_org = \"\"\n",
    "            if curr_loc != \"\":\n",
    "                curr_loc += \" \"\n",
    "            curr_loc += new_tokens[i]\n",
    "\n",
    "        if leb == \"B-org\":\n",
    "            if curr_loc != \"\":\n",
    "                locs.append(curr_loc)\n",
    "                curr_loc = \"\"\n",
    "            if curr_name != \"\":\n",
    "                names.append(curr_name)\n",
    "                curr_name = \"\"\n",
    "            if curr_org != \"\":\n",
    "                curr_org += \" \"\n",
    "            curr_org += new_tokens[i]\n",
    "            \n",
    "            \n",
    "          \n",
    "        if leb == \"I-org\":\n",
    "            if curr_loc != \"\":\n",
    "                locs.append(curr_loc)\n",
    "                curr_loc = \"\"\n",
    "            if curr_name != \"\":\n",
    "                names.append(curr_name)\n",
    "                curr_name = \"\"\n",
    "            if curr_org != \"\":\n",
    "                curr_org += \" \"\n",
    "            curr_org += new_tokens[i]  \n",
    "\n",
    "\n",
    "    else:\n",
    "        if curr_name != \"\":\n",
    "            names.append(curr_name)\n",
    "            curr_name = \"\"\n",
    "        if curr_loc != \"\":\n",
    "            locs.append(curr_loc)\n",
    "            curr_loc = \"\"\n",
    "        if curr_org != \"\":\n",
    "            orgs.append(curr_org)\n",
    "            curr_org = \"\"\n",
    "\n",
    "\n",
    "\n",
    "df = pd.DataFrame()\n",
    "df[\"Free flow of Text\"] = [test_sentence]\n",
    "df[\"Extracted Name\"] = [names]\n",
    "df[\"Extracted Location\"] = [locs]\n",
    "df[\"Extracted Organization\"] = [orgs]\n",
    "\n",
    "print(df)\n",
    "\n",
    "df.to_csv(\"output1.csv\", index=False)"
   ]
  },
  {
   "cell_type": "code",
   "execution_count": null,
   "id": "3806b9a4",
   "metadata": {
    "papermill": {
     "duration": 0.054491,
     "end_time": "2022-01-28T03:49:40.716329",
     "exception": false,
     "start_time": "2022-01-28T03:49:40.661838",
     "status": "completed"
    },
    "tags": []
   },
   "outputs": [],
   "source": []
  }
 ],
 "metadata": {
  "kernelspec": {
   "display_name": "Python 3",
   "language": "python",
   "name": "python3"
  },
  "language_info": {
   "codemirror_mode": {
    "name": "ipython",
    "version": 3
   },
   "file_extension": ".py",
   "mimetype": "text/x-python",
   "name": "python",
   "nbconvert_exporter": "python",
   "pygments_lexer": "ipython3",
   "version": "3.7.10"
  },
  "papermill": {
   "default_parameters": {},
   "duration": 1703.032638,
   "end_time": "2022-01-28T03:49:43.480678",
   "environment_variables": {},
   "exception": null,
   "input_path": "__notebook__.ipynb",
   "output_path": "__notebook__.ipynb",
   "parameters": {},
   "start_time": "2022-01-28T03:21:20.448040",
   "version": "2.3.3"
  },
  "widgets": {
   "application/vnd.jupyter.widget-state+json": {
    "state": {
     "00561fd6056d44d8b2957d25c80d67c1": {
      "model_module": "@jupyter-widgets/controls",
      "model_module_version": "1.5.0",
      "model_name": "HBoxModel",
      "state": {
       "_dom_classes": [],
       "_model_module": "@jupyter-widgets/controls",
       "_model_module_version": "1.5.0",
       "_model_name": "HBoxModel",
       "_view_count": null,
       "_view_module": "@jupyter-widgets/controls",
       "_view_module_version": "1.5.0",
       "_view_name": "HBoxView",
       "box_style": "",
       "children": [
        "IPY_MODEL_68edff52f14649c7a2b787514d266a40",
        "IPY_MODEL_1d4cf8f36e5e43d690581bec9d0c510d",
        "IPY_MODEL_28e0228258da4cfab20cd5470db8878c"
       ],
       "layout": "IPY_MODEL_77c929ce18cb4876a51465a746620946"
      }
     },
     "00adbed033e84294a7f54734fc305355": {
      "model_module": "@jupyter-widgets/base",
      "model_module_version": "1.2.0",
      "model_name": "LayoutModel",
      "state": {
       "_model_module": "@jupyter-widgets/base",
       "_model_module_version": "1.2.0",
       "_model_name": "LayoutModel",
       "_view_count": null,
       "_view_module": "@jupyter-widgets/base",
       "_view_module_version": "1.2.0",
       "_view_name": "LayoutView",
       "align_content": null,
       "align_items": null,
       "align_self": null,
       "border": null,
       "bottom": null,
       "display": null,
       "flex": null,
       "flex_flow": null,
       "grid_area": null,
       "grid_auto_columns": null,
       "grid_auto_flow": null,
       "grid_auto_rows": null,
       "grid_column": null,
       "grid_gap": null,
       "grid_row": null,
       "grid_template_areas": null,
       "grid_template_columns": null,
       "grid_template_rows": null,
       "height": null,
       "justify_content": null,
       "justify_items": null,
       "left": null,
       "margin": null,
       "max_height": null,
       "max_width": null,
       "min_height": null,
       "min_width": null,
       "object_fit": null,
       "object_position": null,
       "order": null,
       "overflow": null,
       "overflow_x": null,
       "overflow_y": null,
       "padding": null,
       "right": null,
       "top": null,
       "visibility": null,
       "width": null
      }
     },
     "032829cbda3c48db8ebc6dd6bdbecc25": {
      "model_module": "@jupyter-widgets/base",
      "model_module_version": "1.2.0",
      "model_name": "LayoutModel",
      "state": {
       "_model_module": "@jupyter-widgets/base",
       "_model_module_version": "1.2.0",
       "_model_name": "LayoutModel",
       "_view_count": null,
       "_view_module": "@jupyter-widgets/base",
       "_view_module_version": "1.2.0",
       "_view_name": "LayoutView",
       "align_content": null,
       "align_items": null,
       "align_self": null,
       "border": null,
       "bottom": null,
       "display": null,
       "flex": null,
       "flex_flow": null,
       "grid_area": null,
       "grid_auto_columns": null,
       "grid_auto_flow": null,
       "grid_auto_rows": null,
       "grid_column": null,
       "grid_gap": null,
       "grid_row": null,
       "grid_template_areas": null,
       "grid_template_columns": null,
       "grid_template_rows": null,
       "height": null,
       "justify_content": null,
       "justify_items": null,
       "left": null,
       "margin": null,
       "max_height": null,
       "max_width": null,
       "min_height": null,
       "min_width": null,
       "object_fit": null,
       "object_position": null,
       "order": null,
       "overflow": null,
       "overflow_x": null,
       "overflow_y": null,
       "padding": null,
       "right": null,
       "top": null,
       "visibility": null,
       "width": null
      }
     },
     "0329512ade0f4083821c076bf2095e64": {
      "model_module": "@jupyter-widgets/controls",
      "model_module_version": "1.5.0",
      "model_name": "DescriptionStyleModel",
      "state": {
       "_model_module": "@jupyter-widgets/controls",
       "_model_module_version": "1.5.0",
       "_model_name": "DescriptionStyleModel",
       "_view_count": null,
       "_view_module": "@jupyter-widgets/base",
       "_view_module_version": "1.2.0",
       "_view_name": "StyleView",
       "description_width": ""
      }
     },
     "0887ae420f8a4d06a78bc9a15d319ef6": {
      "model_module": "@jupyter-widgets/controls",
      "model_module_version": "1.5.0",
      "model_name": "ProgressStyleModel",
      "state": {
       "_model_module": "@jupyter-widgets/controls",
       "_model_module_version": "1.5.0",
       "_model_name": "ProgressStyleModel",
       "_view_count": null,
       "_view_module": "@jupyter-widgets/base",
       "_view_module_version": "1.2.0",
       "_view_name": "StyleView",
       "bar_color": null,
       "description_width": ""
      }
     },
     "098eed6328b04b98a142193bda7fdff1": {
      "model_module": "@jupyter-widgets/controls",
      "model_module_version": "1.5.0",
      "model_name": "DescriptionStyleModel",
      "state": {
       "_model_module": "@jupyter-widgets/controls",
       "_model_module_version": "1.5.0",
       "_model_name": "DescriptionStyleModel",
       "_view_count": null,
       "_view_module": "@jupyter-widgets/base",
       "_view_module_version": "1.2.0",
       "_view_name": "StyleView",
       "description_width": ""
      }
     },
     "0a83a30b0faf4e63a73229f0a1efc10d": {
      "model_module": "@jupyter-widgets/base",
      "model_module_version": "1.2.0",
      "model_name": "LayoutModel",
      "state": {
       "_model_module": "@jupyter-widgets/base",
       "_model_module_version": "1.2.0",
       "_model_name": "LayoutModel",
       "_view_count": null,
       "_view_module": "@jupyter-widgets/base",
       "_view_module_version": "1.2.0",
       "_view_name": "LayoutView",
       "align_content": null,
       "align_items": null,
       "align_self": null,
       "border": null,
       "bottom": null,
       "display": null,
       "flex": null,
       "flex_flow": null,
       "grid_area": null,
       "grid_auto_columns": null,
       "grid_auto_flow": null,
       "grid_auto_rows": null,
       "grid_column": null,
       "grid_gap": null,
       "grid_row": null,
       "grid_template_areas": null,
       "grid_template_columns": null,
       "grid_template_rows": null,
       "height": null,
       "justify_content": null,
       "justify_items": null,
       "left": null,
       "margin": null,
       "max_height": null,
       "max_width": null,
       "min_height": null,
       "min_width": null,
       "object_fit": null,
       "object_position": null,
       "order": null,
       "overflow": null,
       "overflow_x": null,
       "overflow_y": null,
       "padding": null,
       "right": null,
       "top": null,
       "visibility": null,
       "width": null
      }
     },
     "10f4930161824eba90c257cdc7451e31": {
      "model_module": "@jupyter-widgets/controls",
      "model_module_version": "1.5.0",
      "model_name": "DescriptionStyleModel",
      "state": {
       "_model_module": "@jupyter-widgets/controls",
       "_model_module_version": "1.5.0",
       "_model_name": "DescriptionStyleModel",
       "_view_count": null,
       "_view_module": "@jupyter-widgets/base",
       "_view_module_version": "1.2.0",
       "_view_name": "StyleView",
       "description_width": ""
      }
     },
     "1140dd50fd584efdbcf2111e8136199f": {
      "model_module": "@jupyter-widgets/controls",
      "model_module_version": "1.5.0",
      "model_name": "ProgressStyleModel",
      "state": {
       "_model_module": "@jupyter-widgets/controls",
       "_model_module_version": "1.5.0",
       "_model_name": "ProgressStyleModel",
       "_view_count": null,
       "_view_module": "@jupyter-widgets/base",
       "_view_module_version": "1.2.0",
       "_view_name": "StyleView",
       "bar_color": null,
       "description_width": ""
      }
     },
     "1d4cf8f36e5e43d690581bec9d0c510d": {
      "model_module": "@jupyter-widgets/controls",
      "model_module_version": "1.5.0",
      "model_name": "FloatProgressModel",
      "state": {
       "_dom_classes": [],
       "_model_module": "@jupyter-widgets/controls",
       "_model_module_version": "1.5.0",
       "_model_name": "FloatProgressModel",
       "_view_count": null,
       "_view_module": "@jupyter-widgets/controls",
       "_view_module_version": "1.5.0",
       "_view_name": "ProgressView",
       "bar_style": "success",
       "description": "",
       "description_tooltip": null,
       "layout": "IPY_MODEL_7772158386ff4c30a0f73370821afdab",
       "max": 435797.0,
       "min": 0.0,
       "orientation": "horizontal",
       "style": "IPY_MODEL_f961e0a8475d4da9b1b5e9c13cb37340",
       "value": 435797.0
      }
     },
     "28e0228258da4cfab20cd5470db8878c": {
      "model_module": "@jupyter-widgets/controls",
      "model_module_version": "1.5.0",
      "model_name": "HTMLModel",
      "state": {
       "_dom_classes": [],
       "_model_module": "@jupyter-widgets/controls",
       "_model_module_version": "1.5.0",
       "_model_name": "HTMLModel",
       "_view_count": null,
       "_view_module": "@jupyter-widgets/controls",
       "_view_module_version": "1.5.0",
       "_view_name": "HTMLView",
       "description": "",
       "description_tooltip": null,
       "layout": "IPY_MODEL_b3480f90635d47fb876f8bc556cc53d4",
       "placeholder": "​",
       "style": "IPY_MODEL_0329512ade0f4083821c076bf2095e64",
       "value": " 436k/436k [00:00&lt;00:00, 1.42MB/s]"
      }
     },
     "31467bfb7a464f68bac1c05cb97ef37e": {
      "model_module": "@jupyter-widgets/base",
      "model_module_version": "1.2.0",
      "model_name": "LayoutModel",
      "state": {
       "_model_module": "@jupyter-widgets/base",
       "_model_module_version": "1.2.0",
       "_model_name": "LayoutModel",
       "_view_count": null,
       "_view_module": "@jupyter-widgets/base",
       "_view_module_version": "1.2.0",
       "_view_name": "LayoutView",
       "align_content": null,
       "align_items": null,
       "align_self": null,
       "border": null,
       "bottom": null,
       "display": null,
       "flex": null,
       "flex_flow": null,
       "grid_area": null,
       "grid_auto_columns": null,
       "grid_auto_flow": null,
       "grid_auto_rows": null,
       "grid_column": null,
       "grid_gap": null,
       "grid_row": null,
       "grid_template_areas": null,
       "grid_template_columns": null,
       "grid_template_rows": null,
       "height": null,
       "justify_content": null,
       "justify_items": null,
       "left": null,
       "margin": null,
       "max_height": null,
       "max_width": null,
       "min_height": null,
       "min_width": null,
       "object_fit": null,
       "object_position": null,
       "order": null,
       "overflow": null,
       "overflow_x": null,
       "overflow_y": null,
       "padding": null,
       "right": null,
       "top": null,
       "visibility": null,
       "width": null
      }
     },
     "321ff732f2584014a496ef71d773586a": {
      "model_module": "@jupyter-widgets/controls",
      "model_module_version": "1.5.0",
      "model_name": "FloatProgressModel",
      "state": {
       "_dom_classes": [],
       "_model_module": "@jupyter-widgets/controls",
       "_model_module_version": "1.5.0",
       "_model_name": "FloatProgressModel",
       "_view_count": null,
       "_view_module": "@jupyter-widgets/controls",
       "_view_module_version": "1.5.0",
       "_view_name": "ProgressView",
       "bar_style": "success",
       "description": "",
       "description_tooltip": null,
       "layout": "IPY_MODEL_6a4b8fcc68764b3bb2adea0d20308d37",
       "max": 435779157.0,
       "min": 0.0,
       "orientation": "horizontal",
       "style": "IPY_MODEL_8b1e2f0c26464023adb6257167062c7f",
       "value": 435779157.0
      }
     },
     "3fc2b8a893c843aba1b8a6e208da2ded": {
      "model_module": "@jupyter-widgets/controls",
      "model_module_version": "1.5.0",
      "model_name": "HTMLModel",
      "state": {
       "_dom_classes": [],
       "_model_module": "@jupyter-widgets/controls",
       "_model_module_version": "1.5.0",
       "_model_name": "HTMLModel",
       "_view_count": null,
       "_view_module": "@jupyter-widgets/controls",
       "_view_module_version": "1.5.0",
       "_view_name": "HTMLView",
       "description": "",
       "description_tooltip": null,
       "layout": "IPY_MODEL_8272f5441d8e4acb96386cf551598742",
       "placeholder": "​",
       "style": "IPY_MODEL_84af921d7e1444f78745e9fe06899ba8",
       "value": "Downloading: 100%"
      }
     },
     "401b2334e6cd485b8c4315f9c39d62fb": {
      "model_module": "@jupyter-widgets/base",
      "model_module_version": "1.2.0",
      "model_name": "LayoutModel",
      "state": {
       "_model_module": "@jupyter-widgets/base",
       "_model_module_version": "1.2.0",
       "_model_name": "LayoutModel",
       "_view_count": null,
       "_view_module": "@jupyter-widgets/base",
       "_view_module_version": "1.2.0",
       "_view_name": "LayoutView",
       "align_content": null,
       "align_items": null,
       "align_self": null,
       "border": null,
       "bottom": null,
       "display": null,
       "flex": null,
       "flex_flow": null,
       "grid_area": null,
       "grid_auto_columns": null,
       "grid_auto_flow": null,
       "grid_auto_rows": null,
       "grid_column": null,
       "grid_gap": null,
       "grid_row": null,
       "grid_template_areas": null,
       "grid_template_columns": null,
       "grid_template_rows": null,
       "height": null,
       "justify_content": null,
       "justify_items": null,
       "left": null,
       "margin": null,
       "max_height": null,
       "max_width": null,
       "min_height": null,
       "min_width": null,
       "object_fit": null,
       "object_position": null,
       "order": null,
       "overflow": null,
       "overflow_x": null,
       "overflow_y": null,
       "padding": null,
       "right": null,
       "top": null,
       "visibility": null,
       "width": null
      }
     },
     "44ea1173384d48f9bec4a76e23261fa7": {
      "model_module": "@jupyter-widgets/controls",
      "model_module_version": "1.5.0",
      "model_name": "DescriptionStyleModel",
      "state": {
       "_model_module": "@jupyter-widgets/controls",
       "_model_module_version": "1.5.0",
       "_model_name": "DescriptionStyleModel",
       "_view_count": null,
       "_view_module": "@jupyter-widgets/base",
       "_view_module_version": "1.2.0",
       "_view_name": "StyleView",
       "description_width": ""
      }
     },
     "5c064d4e97c04f41b9ccb53907e97592": {
      "model_module": "@jupyter-widgets/controls",
      "model_module_version": "1.5.0",
      "model_name": "DescriptionStyleModel",
      "state": {
       "_model_module": "@jupyter-widgets/controls",
       "_model_module_version": "1.5.0",
       "_model_name": "DescriptionStyleModel",
       "_view_count": null,
       "_view_module": "@jupyter-widgets/base",
       "_view_module_version": "1.2.0",
       "_view_name": "StyleView",
       "description_width": ""
      }
     },
     "67d32af008aa459b90e3c8d2bda0f2b5": {
      "model_module": "@jupyter-widgets/base",
      "model_module_version": "1.2.0",
      "model_name": "LayoutModel",
      "state": {
       "_model_module": "@jupyter-widgets/base",
       "_model_module_version": "1.2.0",
       "_model_name": "LayoutModel",
       "_view_count": null,
       "_view_module": "@jupyter-widgets/base",
       "_view_module_version": "1.2.0",
       "_view_name": "LayoutView",
       "align_content": null,
       "align_items": null,
       "align_self": null,
       "border": null,
       "bottom": null,
       "display": null,
       "flex": null,
       "flex_flow": null,
       "grid_area": null,
       "grid_auto_columns": null,
       "grid_auto_flow": null,
       "grid_auto_rows": null,
       "grid_column": null,
       "grid_gap": null,
       "grid_row": null,
       "grid_template_areas": null,
       "grid_template_columns": null,
       "grid_template_rows": null,
       "height": null,
       "justify_content": null,
       "justify_items": null,
       "left": null,
       "margin": null,
       "max_height": null,
       "max_width": null,
       "min_height": null,
       "min_width": null,
       "object_fit": null,
       "object_position": null,
       "order": null,
       "overflow": null,
       "overflow_x": null,
       "overflow_y": null,
       "padding": null,
       "right": null,
       "top": null,
       "visibility": null,
       "width": null
      }
     },
     "68edff52f14649c7a2b787514d266a40": {
      "model_module": "@jupyter-widgets/controls",
      "model_module_version": "1.5.0",
      "model_name": "HTMLModel",
      "state": {
       "_dom_classes": [],
       "_model_module": "@jupyter-widgets/controls",
       "_model_module_version": "1.5.0",
       "_model_name": "HTMLModel",
       "_view_count": null,
       "_view_module": "@jupyter-widgets/controls",
       "_view_module_version": "1.5.0",
       "_view_name": "HTMLView",
       "description": "",
       "description_tooltip": null,
       "layout": "IPY_MODEL_31467bfb7a464f68bac1c05cb97ef37e",
       "placeholder": "​",
       "style": "IPY_MODEL_5c064d4e97c04f41b9ccb53907e97592",
       "value": "Downloading: 100%"
      }
     },
     "6925b40e700649479dd5b38b4ed30f4c": {
      "model_module": "@jupyter-widgets/controls",
      "model_module_version": "1.5.0",
      "model_name": "HBoxModel",
      "state": {
       "_dom_classes": [],
       "_model_module": "@jupyter-widgets/controls",
       "_model_module_version": "1.5.0",
       "_model_name": "HBoxModel",
       "_view_count": null,
       "_view_module": "@jupyter-widgets/controls",
       "_view_module_version": "1.5.0",
       "_view_name": "HBoxView",
       "box_style": "",
       "children": [
        "IPY_MODEL_3fc2b8a893c843aba1b8a6e208da2ded",
        "IPY_MODEL_986dd7d36e9f431fa6889057e2b43192",
        "IPY_MODEL_69d03a45e8564002a11f0e70d5207613"
       ],
       "layout": "IPY_MODEL_d3edf43a71064f1cb1d703b3f4a2287f"
      }
     },
     "69d03a45e8564002a11f0e70d5207613": {
      "model_module": "@jupyter-widgets/controls",
      "model_module_version": "1.5.0",
      "model_name": "HTMLModel",
      "state": {
       "_dom_classes": [],
       "_model_module": "@jupyter-widgets/controls",
       "_model_module_version": "1.5.0",
       "_model_name": "HTMLModel",
       "_view_count": null,
       "_view_module": "@jupyter-widgets/controls",
       "_view_module_version": "1.5.0",
       "_view_name": "HTMLView",
       "description": "",
       "description_tooltip": null,
       "layout": "IPY_MODEL_feb2f4482aa74e6fb48fac1e222779c0",
       "placeholder": "​",
       "style": "IPY_MODEL_71b16f98054346f18fad6fe282f27aae",
       "value": " 29.0/29.0 [00:00&lt;00:00, 554B/s]"
      }
     },
     "6a4b8fcc68764b3bb2adea0d20308d37": {
      "model_module": "@jupyter-widgets/base",
      "model_module_version": "1.2.0",
      "model_name": "LayoutModel",
      "state": {
       "_model_module": "@jupyter-widgets/base",
       "_model_module_version": "1.2.0",
       "_model_name": "LayoutModel",
       "_view_count": null,
       "_view_module": "@jupyter-widgets/base",
       "_view_module_version": "1.2.0",
       "_view_name": "LayoutView",
       "align_content": null,
       "align_items": null,
       "align_self": null,
       "border": null,
       "bottom": null,
       "display": null,
       "flex": null,
       "flex_flow": null,
       "grid_area": null,
       "grid_auto_columns": null,
       "grid_auto_flow": null,
       "grid_auto_rows": null,
       "grid_column": null,
       "grid_gap": null,
       "grid_row": null,
       "grid_template_areas": null,
       "grid_template_columns": null,
       "grid_template_rows": null,
       "height": null,
       "justify_content": null,
       "justify_items": null,
       "left": null,
       "margin": null,
       "max_height": null,
       "max_width": null,
       "min_height": null,
       "min_width": null,
       "object_fit": null,
       "object_position": null,
       "order": null,
       "overflow": null,
       "overflow_x": null,
       "overflow_y": null,
       "padding": null,
       "right": null,
       "top": null,
       "visibility": null,
       "width": null
      }
     },
     "6c1055c80e1a46df8a8b304dd760c721": {
      "model_module": "@jupyter-widgets/controls",
      "model_module_version": "1.5.0",
      "model_name": "HTMLModel",
      "state": {
       "_dom_classes": [],
       "_model_module": "@jupyter-widgets/controls",
       "_model_module_version": "1.5.0",
       "_model_name": "HTMLModel",
       "_view_count": null,
       "_view_module": "@jupyter-widgets/controls",
       "_view_module_version": "1.5.0",
       "_view_name": "HTMLView",
       "description": "",
       "description_tooltip": null,
       "layout": "IPY_MODEL_a0c13756ed1e4485877b7c7cca58cdac",
       "placeholder": "​",
       "style": "IPY_MODEL_10f4930161824eba90c257cdc7451e31",
       "value": " 570/570 [00:00&lt;00:00, 22.2kB/s]"
      }
     },
     "71b16f98054346f18fad6fe282f27aae": {
      "model_module": "@jupyter-widgets/controls",
      "model_module_version": "1.5.0",
      "model_name": "DescriptionStyleModel",
      "state": {
       "_model_module": "@jupyter-widgets/controls",
       "_model_module_version": "1.5.0",
       "_model_name": "DescriptionStyleModel",
       "_view_count": null,
       "_view_module": "@jupyter-widgets/base",
       "_view_module_version": "1.2.0",
       "_view_name": "StyleView",
       "description_width": ""
      }
     },
     "72b334dcbd904c51a4e2419fc069bb1d": {
      "model_module": "@jupyter-widgets/base",
      "model_module_version": "1.2.0",
      "model_name": "LayoutModel",
      "state": {
       "_model_module": "@jupyter-widgets/base",
       "_model_module_version": "1.2.0",
       "_model_name": "LayoutModel",
       "_view_count": null,
       "_view_module": "@jupyter-widgets/base",
       "_view_module_version": "1.2.0",
       "_view_name": "LayoutView",
       "align_content": null,
       "align_items": null,
       "align_self": null,
       "border": null,
       "bottom": null,
       "display": null,
       "flex": null,
       "flex_flow": null,
       "grid_area": null,
       "grid_auto_columns": null,
       "grid_auto_flow": null,
       "grid_auto_rows": null,
       "grid_column": null,
       "grid_gap": null,
       "grid_row": null,
       "grid_template_areas": null,
       "grid_template_columns": null,
       "grid_template_rows": null,
       "height": null,
       "justify_content": null,
       "justify_items": null,
       "left": null,
       "margin": null,
       "max_height": null,
       "max_width": null,
       "min_height": null,
       "min_width": null,
       "object_fit": null,
       "object_position": null,
       "order": null,
       "overflow": null,
       "overflow_x": null,
       "overflow_y": null,
       "padding": null,
       "right": null,
       "top": null,
       "visibility": null,
       "width": null
      }
     },
     "7772158386ff4c30a0f73370821afdab": {
      "model_module": "@jupyter-widgets/base",
      "model_module_version": "1.2.0",
      "model_name": "LayoutModel",
      "state": {
       "_model_module": "@jupyter-widgets/base",
       "_model_module_version": "1.2.0",
       "_model_name": "LayoutModel",
       "_view_count": null,
       "_view_module": "@jupyter-widgets/base",
       "_view_module_version": "1.2.0",
       "_view_name": "LayoutView",
       "align_content": null,
       "align_items": null,
       "align_self": null,
       "border": null,
       "bottom": null,
       "display": null,
       "flex": null,
       "flex_flow": null,
       "grid_area": null,
       "grid_auto_columns": null,
       "grid_auto_flow": null,
       "grid_auto_rows": null,
       "grid_column": null,
       "grid_gap": null,
       "grid_row": null,
       "grid_template_areas": null,
       "grid_template_columns": null,
       "grid_template_rows": null,
       "height": null,
       "justify_content": null,
       "justify_items": null,
       "left": null,
       "margin": null,
       "max_height": null,
       "max_width": null,
       "min_height": null,
       "min_width": null,
       "object_fit": null,
       "object_position": null,
       "order": null,
       "overflow": null,
       "overflow_x": null,
       "overflow_y": null,
       "padding": null,
       "right": null,
       "top": null,
       "visibility": null,
       "width": null
      }
     },
     "77c929ce18cb4876a51465a746620946": {
      "model_module": "@jupyter-widgets/base",
      "model_module_version": "1.2.0",
      "model_name": "LayoutModel",
      "state": {
       "_model_module": "@jupyter-widgets/base",
       "_model_module_version": "1.2.0",
       "_model_name": "LayoutModel",
       "_view_count": null,
       "_view_module": "@jupyter-widgets/base",
       "_view_module_version": "1.2.0",
       "_view_name": "LayoutView",
       "align_content": null,
       "align_items": null,
       "align_self": null,
       "border": null,
       "bottom": null,
       "display": null,
       "flex": null,
       "flex_flow": null,
       "grid_area": null,
       "grid_auto_columns": null,
       "grid_auto_flow": null,
       "grid_auto_rows": null,
       "grid_column": null,
       "grid_gap": null,
       "grid_row": null,
       "grid_template_areas": null,
       "grid_template_columns": null,
       "grid_template_rows": null,
       "height": null,
       "justify_content": null,
       "justify_items": null,
       "left": null,
       "margin": null,
       "max_height": null,
       "max_width": null,
       "min_height": null,
       "min_width": null,
       "object_fit": null,
       "object_position": null,
       "order": null,
       "overflow": null,
       "overflow_x": null,
       "overflow_y": null,
       "padding": null,
       "right": null,
       "top": null,
       "visibility": null,
       "width": null
      }
     },
     "792887a9438b4c2598f79ab07e84b281": {
      "model_module": "@jupyter-widgets/controls",
      "model_module_version": "1.5.0",
      "model_name": "HTMLModel",
      "state": {
       "_dom_classes": [],
       "_model_module": "@jupyter-widgets/controls",
       "_model_module_version": "1.5.0",
       "_model_name": "HTMLModel",
       "_view_count": null,
       "_view_module": "@jupyter-widgets/controls",
       "_view_module_version": "1.5.0",
       "_view_name": "HTMLView",
       "description": "",
       "description_tooltip": null,
       "layout": "IPY_MODEL_927540387f6c4b91a7a54ef9222d02f9",
       "placeholder": "​",
       "style": "IPY_MODEL_864a15466dc843209c8108ea9fe1a886",
       "value": "Downloading: 100%"
      }
     },
     "7d0b79db78eb401ca7e66c46a8461599": {
      "model_module": "@jupyter-widgets/controls",
      "model_module_version": "1.5.0",
      "model_name": "HBoxModel",
      "state": {
       "_dom_classes": [],
       "_model_module": "@jupyter-widgets/controls",
       "_model_module_version": "1.5.0",
       "_model_name": "HBoxModel",
       "_view_count": null,
       "_view_module": "@jupyter-widgets/controls",
       "_view_module_version": "1.5.0",
       "_view_name": "HBoxView",
       "box_style": "",
       "children": [
        "IPY_MODEL_cba48e4f11014c6a85a57e3c1a885dab",
        "IPY_MODEL_321ff732f2584014a496ef71d773586a",
        "IPY_MODEL_fc4557ee786d40cdb8872b786695caa7"
       ],
       "layout": "IPY_MODEL_67d32af008aa459b90e3c8d2bda0f2b5"
      }
     },
     "8272f5441d8e4acb96386cf551598742": {
      "model_module": "@jupyter-widgets/base",
      "model_module_version": "1.2.0",
      "model_name": "LayoutModel",
      "state": {
       "_model_module": "@jupyter-widgets/base",
       "_model_module_version": "1.2.0",
       "_model_name": "LayoutModel",
       "_view_count": null,
       "_view_module": "@jupyter-widgets/base",
       "_view_module_version": "1.2.0",
       "_view_name": "LayoutView",
       "align_content": null,
       "align_items": null,
       "align_self": null,
       "border": null,
       "bottom": null,
       "display": null,
       "flex": null,
       "flex_flow": null,
       "grid_area": null,
       "grid_auto_columns": null,
       "grid_auto_flow": null,
       "grid_auto_rows": null,
       "grid_column": null,
       "grid_gap": null,
       "grid_row": null,
       "grid_template_areas": null,
       "grid_template_columns": null,
       "grid_template_rows": null,
       "height": null,
       "justify_content": null,
       "justify_items": null,
       "left": null,
       "margin": null,
       "max_height": null,
       "max_width": null,
       "min_height": null,
       "min_width": null,
       "object_fit": null,
       "object_position": null,
       "order": null,
       "overflow": null,
       "overflow_x": null,
       "overflow_y": null,
       "padding": null,
       "right": null,
       "top": null,
       "visibility": null,
       "width": null
      }
     },
     "84af921d7e1444f78745e9fe06899ba8": {
      "model_module": "@jupyter-widgets/controls",
      "model_module_version": "1.5.0",
      "model_name": "DescriptionStyleModel",
      "state": {
       "_model_module": "@jupyter-widgets/controls",
       "_model_module_version": "1.5.0",
       "_model_name": "DescriptionStyleModel",
       "_view_count": null,
       "_view_module": "@jupyter-widgets/base",
       "_view_module_version": "1.2.0",
       "_view_name": "StyleView",
       "description_width": ""
      }
     },
     "864a15466dc843209c8108ea9fe1a886": {
      "model_module": "@jupyter-widgets/controls",
      "model_module_version": "1.5.0",
      "model_name": "DescriptionStyleModel",
      "state": {
       "_model_module": "@jupyter-widgets/controls",
       "_model_module_version": "1.5.0",
       "_model_name": "DescriptionStyleModel",
       "_view_count": null,
       "_view_module": "@jupyter-widgets/base",
       "_view_module_version": "1.2.0",
       "_view_name": "StyleView",
       "description_width": ""
      }
     },
     "8b1e2f0c26464023adb6257167062c7f": {
      "model_module": "@jupyter-widgets/controls",
      "model_module_version": "1.5.0",
      "model_name": "ProgressStyleModel",
      "state": {
       "_model_module": "@jupyter-widgets/controls",
       "_model_module_version": "1.5.0",
       "_model_name": "ProgressStyleModel",
       "_view_count": null,
       "_view_module": "@jupyter-widgets/base",
       "_view_module_version": "1.2.0",
       "_view_name": "StyleView",
       "bar_color": null,
       "description_width": ""
      }
     },
     "927540387f6c4b91a7a54ef9222d02f9": {
      "model_module": "@jupyter-widgets/base",
      "model_module_version": "1.2.0",
      "model_name": "LayoutModel",
      "state": {
       "_model_module": "@jupyter-widgets/base",
       "_model_module_version": "1.2.0",
       "_model_name": "LayoutModel",
       "_view_count": null,
       "_view_module": "@jupyter-widgets/base",
       "_view_module_version": "1.2.0",
       "_view_name": "LayoutView",
       "align_content": null,
       "align_items": null,
       "align_self": null,
       "border": null,
       "bottom": null,
       "display": null,
       "flex": null,
       "flex_flow": null,
       "grid_area": null,
       "grid_auto_columns": null,
       "grid_auto_flow": null,
       "grid_auto_rows": null,
       "grid_column": null,
       "grid_gap": null,
       "grid_row": null,
       "grid_template_areas": null,
       "grid_template_columns": null,
       "grid_template_rows": null,
       "height": null,
       "justify_content": null,
       "justify_items": null,
       "left": null,
       "margin": null,
       "max_height": null,
       "max_width": null,
       "min_height": null,
       "min_width": null,
       "object_fit": null,
       "object_position": null,
       "order": null,
       "overflow": null,
       "overflow_x": null,
       "overflow_y": null,
       "padding": null,
       "right": null,
       "top": null,
       "visibility": null,
       "width": null
      }
     },
     "927ebc8210da4d1b8fcef3ffbb43d12a": {
      "model_module": "@jupyter-widgets/controls",
      "model_module_version": "1.5.0",
      "model_name": "HBoxModel",
      "state": {
       "_dom_classes": [],
       "_model_module": "@jupyter-widgets/controls",
       "_model_module_version": "1.5.0",
       "_model_name": "HBoxModel",
       "_view_count": null,
       "_view_module": "@jupyter-widgets/controls",
       "_view_module_version": "1.5.0",
       "_view_name": "HBoxView",
       "box_style": "",
       "children": [
        "IPY_MODEL_c2fd73d1208c472b9d112d1008367310",
        "IPY_MODEL_bd8cccf5debf4a4492c259b1a853309d",
        "IPY_MODEL_6c1055c80e1a46df8a8b304dd760c721"
       ],
       "layout": "IPY_MODEL_e20f83231d1f47c7b7dff24c637a4f6c"
      }
     },
     "986dd7d36e9f431fa6889057e2b43192": {
      "model_module": "@jupyter-widgets/controls",
      "model_module_version": "1.5.0",
      "model_name": "FloatProgressModel",
      "state": {
       "_dom_classes": [],
       "_model_module": "@jupyter-widgets/controls",
       "_model_module_version": "1.5.0",
       "_model_name": "FloatProgressModel",
       "_view_count": null,
       "_view_module": "@jupyter-widgets/controls",
       "_view_module_version": "1.5.0",
       "_view_name": "ProgressView",
       "bar_style": "success",
       "description": "",
       "description_tooltip": null,
       "layout": "IPY_MODEL_00adbed033e84294a7f54734fc305355",
       "max": 29.0,
       "min": 0.0,
       "orientation": "horizontal",
       "style": "IPY_MODEL_0887ae420f8a4d06a78bc9a15d319ef6",
       "value": 29.0
      }
     },
     "a0c13756ed1e4485877b7c7cca58cdac": {
      "model_module": "@jupyter-widgets/base",
      "model_module_version": "1.2.0",
      "model_name": "LayoutModel",
      "state": {
       "_model_module": "@jupyter-widgets/base",
       "_model_module_version": "1.2.0",
       "_model_name": "LayoutModel",
       "_view_count": null,
       "_view_module": "@jupyter-widgets/base",
       "_view_module_version": "1.2.0",
       "_view_name": "LayoutView",
       "align_content": null,
       "align_items": null,
       "align_self": null,
       "border": null,
       "bottom": null,
       "display": null,
       "flex": null,
       "flex_flow": null,
       "grid_area": null,
       "grid_auto_columns": null,
       "grid_auto_flow": null,
       "grid_auto_rows": null,
       "grid_column": null,
       "grid_gap": null,
       "grid_row": null,
       "grid_template_areas": null,
       "grid_template_columns": null,
       "grid_template_rows": null,
       "height": null,
       "justify_content": null,
       "justify_items": null,
       "left": null,
       "margin": null,
       "max_height": null,
       "max_width": null,
       "min_height": null,
       "min_width": null,
       "object_fit": null,
       "object_position": null,
       "order": null,
       "overflow": null,
       "overflow_x": null,
       "overflow_y": null,
       "padding": null,
       "right": null,
       "top": null,
       "visibility": null,
       "width": null
      }
     },
     "b3480f90635d47fb876f8bc556cc53d4": {
      "model_module": "@jupyter-widgets/base",
      "model_module_version": "1.2.0",
      "model_name": "LayoutModel",
      "state": {
       "_model_module": "@jupyter-widgets/base",
       "_model_module_version": "1.2.0",
       "_model_name": "LayoutModel",
       "_view_count": null,
       "_view_module": "@jupyter-widgets/base",
       "_view_module_version": "1.2.0",
       "_view_name": "LayoutView",
       "align_content": null,
       "align_items": null,
       "align_self": null,
       "border": null,
       "bottom": null,
       "display": null,
       "flex": null,
       "flex_flow": null,
       "grid_area": null,
       "grid_auto_columns": null,
       "grid_auto_flow": null,
       "grid_auto_rows": null,
       "grid_column": null,
       "grid_gap": null,
       "grid_row": null,
       "grid_template_areas": null,
       "grid_template_columns": null,
       "grid_template_rows": null,
       "height": null,
       "justify_content": null,
       "justify_items": null,
       "left": null,
       "margin": null,
       "max_height": null,
       "max_width": null,
       "min_height": null,
       "min_width": null,
       "object_fit": null,
       "object_position": null,
       "order": null,
       "overflow": null,
       "overflow_x": null,
       "overflow_y": null,
       "padding": null,
       "right": null,
       "top": null,
       "visibility": null,
       "width": null
      }
     },
     "bbd2e752486543b9b1fec06f92e06a7d": {
      "model_module": "@jupyter-widgets/controls",
      "model_module_version": "1.5.0",
      "model_name": "ProgressStyleModel",
      "state": {
       "_model_module": "@jupyter-widgets/controls",
       "_model_module_version": "1.5.0",
       "_model_name": "ProgressStyleModel",
       "_view_count": null,
       "_view_module": "@jupyter-widgets/base",
       "_view_module_version": "1.2.0",
       "_view_name": "StyleView",
       "bar_color": null,
       "description_width": ""
      }
     },
     "bc9e34ce997348f6a0606bd3b1fc9b1c": {
      "model_module": "@jupyter-widgets/controls",
      "model_module_version": "1.5.0",
      "model_name": "HBoxModel",
      "state": {
       "_dom_classes": [],
       "_model_module": "@jupyter-widgets/controls",
       "_model_module_version": "1.5.0",
       "_model_name": "HBoxModel",
       "_view_count": null,
       "_view_module": "@jupyter-widgets/controls",
       "_view_module_version": "1.5.0",
       "_view_name": "HBoxView",
       "box_style": "",
       "children": [
        "IPY_MODEL_792887a9438b4c2598f79ab07e84b281",
        "IPY_MODEL_f01b778d98e0457786621254e277c5a4",
        "IPY_MODEL_ddbf33870345479f80fed44fc4600df1"
       ],
       "layout": "IPY_MODEL_72b334dcbd904c51a4e2419fc069bb1d"
      }
     },
     "bd8cccf5debf4a4492c259b1a853309d": {
      "model_module": "@jupyter-widgets/controls",
      "model_module_version": "1.5.0",
      "model_name": "FloatProgressModel",
      "state": {
       "_dom_classes": [],
       "_model_module": "@jupyter-widgets/controls",
       "_model_module_version": "1.5.0",
       "_model_name": "FloatProgressModel",
       "_view_count": null,
       "_view_module": "@jupyter-widgets/controls",
       "_view_module_version": "1.5.0",
       "_view_name": "ProgressView",
       "bar_style": "success",
       "description": "",
       "description_tooltip": null,
       "layout": "IPY_MODEL_f1d67a4c62e94fb3b278efde7d881642",
       "max": 570.0,
       "min": 0.0,
       "orientation": "horizontal",
       "style": "IPY_MODEL_bbd2e752486543b9b1fec06f92e06a7d",
       "value": 570.0
      }
     },
     "c2fd73d1208c472b9d112d1008367310": {
      "model_module": "@jupyter-widgets/controls",
      "model_module_version": "1.5.0",
      "model_name": "HTMLModel",
      "state": {
       "_dom_classes": [],
       "_model_module": "@jupyter-widgets/controls",
       "_model_module_version": "1.5.0",
       "_model_name": "HTMLModel",
       "_view_count": null,
       "_view_module": "@jupyter-widgets/controls",
       "_view_module_version": "1.5.0",
       "_view_name": "HTMLView",
       "description": "",
       "description_tooltip": null,
       "layout": "IPY_MODEL_fdd34f9c79074f2e95735e56397b85bc",
       "placeholder": "​",
       "style": "IPY_MODEL_098eed6328b04b98a142193bda7fdff1",
       "value": "Downloading: 100%"
      }
     },
     "cba48e4f11014c6a85a57e3c1a885dab": {
      "model_module": "@jupyter-widgets/controls",
      "model_module_version": "1.5.0",
      "model_name": "HTMLModel",
      "state": {
       "_dom_classes": [],
       "_model_module": "@jupyter-widgets/controls",
       "_model_module_version": "1.5.0",
       "_model_name": "HTMLModel",
       "_view_count": null,
       "_view_module": "@jupyter-widgets/controls",
       "_view_module_version": "1.5.0",
       "_view_name": "HTMLView",
       "description": "",
       "description_tooltip": null,
       "layout": "IPY_MODEL_0a83a30b0faf4e63a73229f0a1efc10d",
       "placeholder": "​",
       "style": "IPY_MODEL_d201fda751ae44e49b7e78753b027ee1",
       "value": "Downloading: 100%"
      }
     },
     "d201fda751ae44e49b7e78753b027ee1": {
      "model_module": "@jupyter-widgets/controls",
      "model_module_version": "1.5.0",
      "model_name": "DescriptionStyleModel",
      "state": {
       "_model_module": "@jupyter-widgets/controls",
       "_model_module_version": "1.5.0",
       "_model_name": "DescriptionStyleModel",
       "_view_count": null,
       "_view_module": "@jupyter-widgets/base",
       "_view_module_version": "1.2.0",
       "_view_name": "StyleView",
       "description_width": ""
      }
     },
     "d3edf43a71064f1cb1d703b3f4a2287f": {
      "model_module": "@jupyter-widgets/base",
      "model_module_version": "1.2.0",
      "model_name": "LayoutModel",
      "state": {
       "_model_module": "@jupyter-widgets/base",
       "_model_module_version": "1.2.0",
       "_model_name": "LayoutModel",
       "_view_count": null,
       "_view_module": "@jupyter-widgets/base",
       "_view_module_version": "1.2.0",
       "_view_name": "LayoutView",
       "align_content": null,
       "align_items": null,
       "align_self": null,
       "border": null,
       "bottom": null,
       "display": null,
       "flex": null,
       "flex_flow": null,
       "grid_area": null,
       "grid_auto_columns": null,
       "grid_auto_flow": null,
       "grid_auto_rows": null,
       "grid_column": null,
       "grid_gap": null,
       "grid_row": null,
       "grid_template_areas": null,
       "grid_template_columns": null,
       "grid_template_rows": null,
       "height": null,
       "justify_content": null,
       "justify_items": null,
       "left": null,
       "margin": null,
       "max_height": null,
       "max_width": null,
       "min_height": null,
       "min_width": null,
       "object_fit": null,
       "object_position": null,
       "order": null,
       "overflow": null,
       "overflow_x": null,
       "overflow_y": null,
       "padding": null,
       "right": null,
       "top": null,
       "visibility": null,
       "width": null
      }
     },
     "ddbf33870345479f80fed44fc4600df1": {
      "model_module": "@jupyter-widgets/controls",
      "model_module_version": "1.5.0",
      "model_name": "HTMLModel",
      "state": {
       "_dom_classes": [],
       "_model_module": "@jupyter-widgets/controls",
       "_model_module_version": "1.5.0",
       "_model_name": "HTMLModel",
       "_view_count": null,
       "_view_module": "@jupyter-widgets/controls",
       "_view_module_version": "1.5.0",
       "_view_name": "HTMLView",
       "description": "",
       "description_tooltip": null,
       "layout": "IPY_MODEL_ed3aa31c2adf459e966dfcd5a58397c8",
       "placeholder": "​",
       "style": "IPY_MODEL_f2f6a8324c984620bc134f8e282174ee",
       "value": " 213k/213k [00:00&lt;00:00, 1.83MB/s]"
      }
     },
     "e20f83231d1f47c7b7dff24c637a4f6c": {
      "model_module": "@jupyter-widgets/base",
      "model_module_version": "1.2.0",
      "model_name": "LayoutModel",
      "state": {
       "_model_module": "@jupyter-widgets/base",
       "_model_module_version": "1.2.0",
       "_model_name": "LayoutModel",
       "_view_count": null,
       "_view_module": "@jupyter-widgets/base",
       "_view_module_version": "1.2.0",
       "_view_name": "LayoutView",
       "align_content": null,
       "align_items": null,
       "align_self": null,
       "border": null,
       "bottom": null,
       "display": null,
       "flex": null,
       "flex_flow": null,
       "grid_area": null,
       "grid_auto_columns": null,
       "grid_auto_flow": null,
       "grid_auto_rows": null,
       "grid_column": null,
       "grid_gap": null,
       "grid_row": null,
       "grid_template_areas": null,
       "grid_template_columns": null,
       "grid_template_rows": null,
       "height": null,
       "justify_content": null,
       "justify_items": null,
       "left": null,
       "margin": null,
       "max_height": null,
       "max_width": null,
       "min_height": null,
       "min_width": null,
       "object_fit": null,
       "object_position": null,
       "order": null,
       "overflow": null,
       "overflow_x": null,
       "overflow_y": null,
       "padding": null,
       "right": null,
       "top": null,
       "visibility": null,
       "width": null
      }
     },
     "ed3aa31c2adf459e966dfcd5a58397c8": {
      "model_module": "@jupyter-widgets/base",
      "model_module_version": "1.2.0",
      "model_name": "LayoutModel",
      "state": {
       "_model_module": "@jupyter-widgets/base",
       "_model_module_version": "1.2.0",
       "_model_name": "LayoutModel",
       "_view_count": null,
       "_view_module": "@jupyter-widgets/base",
       "_view_module_version": "1.2.0",
       "_view_name": "LayoutView",
       "align_content": null,
       "align_items": null,
       "align_self": null,
       "border": null,
       "bottom": null,
       "display": null,
       "flex": null,
       "flex_flow": null,
       "grid_area": null,
       "grid_auto_columns": null,
       "grid_auto_flow": null,
       "grid_auto_rows": null,
       "grid_column": null,
       "grid_gap": null,
       "grid_row": null,
       "grid_template_areas": null,
       "grid_template_columns": null,
       "grid_template_rows": null,
       "height": null,
       "justify_content": null,
       "justify_items": null,
       "left": null,
       "margin": null,
       "max_height": null,
       "max_width": null,
       "min_height": null,
       "min_width": null,
       "object_fit": null,
       "object_position": null,
       "order": null,
       "overflow": null,
       "overflow_x": null,
       "overflow_y": null,
       "padding": null,
       "right": null,
       "top": null,
       "visibility": null,
       "width": null
      }
     },
     "f01b778d98e0457786621254e277c5a4": {
      "model_module": "@jupyter-widgets/controls",
      "model_module_version": "1.5.0",
      "model_name": "FloatProgressModel",
      "state": {
       "_dom_classes": [],
       "_model_module": "@jupyter-widgets/controls",
       "_model_module_version": "1.5.0",
       "_model_name": "FloatProgressModel",
       "_view_count": null,
       "_view_module": "@jupyter-widgets/controls",
       "_view_module_version": "1.5.0",
       "_view_name": "ProgressView",
       "bar_style": "success",
       "description": "",
       "description_tooltip": null,
       "layout": "IPY_MODEL_401b2334e6cd485b8c4315f9c39d62fb",
       "max": 213450.0,
       "min": 0.0,
       "orientation": "horizontal",
       "style": "IPY_MODEL_1140dd50fd584efdbcf2111e8136199f",
       "value": 213450.0
      }
     },
     "f1d67a4c62e94fb3b278efde7d881642": {
      "model_module": "@jupyter-widgets/base",
      "model_module_version": "1.2.0",
      "model_name": "LayoutModel",
      "state": {
       "_model_module": "@jupyter-widgets/base",
       "_model_module_version": "1.2.0",
       "_model_name": "LayoutModel",
       "_view_count": null,
       "_view_module": "@jupyter-widgets/base",
       "_view_module_version": "1.2.0",
       "_view_name": "LayoutView",
       "align_content": null,
       "align_items": null,
       "align_self": null,
       "border": null,
       "bottom": null,
       "display": null,
       "flex": null,
       "flex_flow": null,
       "grid_area": null,
       "grid_auto_columns": null,
       "grid_auto_flow": null,
       "grid_auto_rows": null,
       "grid_column": null,
       "grid_gap": null,
       "grid_row": null,
       "grid_template_areas": null,
       "grid_template_columns": null,
       "grid_template_rows": null,
       "height": null,
       "justify_content": null,
       "justify_items": null,
       "left": null,
       "margin": null,
       "max_height": null,
       "max_width": null,
       "min_height": null,
       "min_width": null,
       "object_fit": null,
       "object_position": null,
       "order": null,
       "overflow": null,
       "overflow_x": null,
       "overflow_y": null,
       "padding": null,
       "right": null,
       "top": null,
       "visibility": null,
       "width": null
      }
     },
     "f2f6a8324c984620bc134f8e282174ee": {
      "model_module": "@jupyter-widgets/controls",
      "model_module_version": "1.5.0",
      "model_name": "DescriptionStyleModel",
      "state": {
       "_model_module": "@jupyter-widgets/controls",
       "_model_module_version": "1.5.0",
       "_model_name": "DescriptionStyleModel",
       "_view_count": null,
       "_view_module": "@jupyter-widgets/base",
       "_view_module_version": "1.2.0",
       "_view_name": "StyleView",
       "description_width": ""
      }
     },
     "f961e0a8475d4da9b1b5e9c13cb37340": {
      "model_module": "@jupyter-widgets/controls",
      "model_module_version": "1.5.0",
      "model_name": "ProgressStyleModel",
      "state": {
       "_model_module": "@jupyter-widgets/controls",
       "_model_module_version": "1.5.0",
       "_model_name": "ProgressStyleModel",
       "_view_count": null,
       "_view_module": "@jupyter-widgets/base",
       "_view_module_version": "1.2.0",
       "_view_name": "StyleView",
       "bar_color": null,
       "description_width": ""
      }
     },
     "fc4557ee786d40cdb8872b786695caa7": {
      "model_module": "@jupyter-widgets/controls",
      "model_module_version": "1.5.0",
      "model_name": "HTMLModel",
      "state": {
       "_dom_classes": [],
       "_model_module": "@jupyter-widgets/controls",
       "_model_module_version": "1.5.0",
       "_model_name": "HTMLModel",
       "_view_count": null,
       "_view_module": "@jupyter-widgets/controls",
       "_view_module_version": "1.5.0",
       "_view_name": "HTMLView",
       "description": "",
       "description_tooltip": null,
       "layout": "IPY_MODEL_032829cbda3c48db8ebc6dd6bdbecc25",
       "placeholder": "​",
       "style": "IPY_MODEL_44ea1173384d48f9bec4a76e23261fa7",
       "value": " 436M/436M [00:13&lt;00:00, 28.6MB/s]"
      }
     },
     "fdd34f9c79074f2e95735e56397b85bc": {
      "model_module": "@jupyter-widgets/base",
      "model_module_version": "1.2.0",
      "model_name": "LayoutModel",
      "state": {
       "_model_module": "@jupyter-widgets/base",
       "_model_module_version": "1.2.0",
       "_model_name": "LayoutModel",
       "_view_count": null,
       "_view_module": "@jupyter-widgets/base",
       "_view_module_version": "1.2.0",
       "_view_name": "LayoutView",
       "align_content": null,
       "align_items": null,
       "align_self": null,
       "border": null,
       "bottom": null,
       "display": null,
       "flex": null,
       "flex_flow": null,
       "grid_area": null,
       "grid_auto_columns": null,
       "grid_auto_flow": null,
       "grid_auto_rows": null,
       "grid_column": null,
       "grid_gap": null,
       "grid_row": null,
       "grid_template_areas": null,
       "grid_template_columns": null,
       "grid_template_rows": null,
       "height": null,
       "justify_content": null,
       "justify_items": null,
       "left": null,
       "margin": null,
       "max_height": null,
       "max_width": null,
       "min_height": null,
       "min_width": null,
       "object_fit": null,
       "object_position": null,
       "order": null,
       "overflow": null,
       "overflow_x": null,
       "overflow_y": null,
       "padding": null,
       "right": null,
       "top": null,
       "visibility": null,
       "width": null
      }
     },
     "feb2f4482aa74e6fb48fac1e222779c0": {
      "model_module": "@jupyter-widgets/base",
      "model_module_version": "1.2.0",
      "model_name": "LayoutModel",
      "state": {
       "_model_module": "@jupyter-widgets/base",
       "_model_module_version": "1.2.0",
       "_model_name": "LayoutModel",
       "_view_count": null,
       "_view_module": "@jupyter-widgets/base",
       "_view_module_version": "1.2.0",
       "_view_name": "LayoutView",
       "align_content": null,
       "align_items": null,
       "align_self": null,
       "border": null,
       "bottom": null,
       "display": null,
       "flex": null,
       "flex_flow": null,
       "grid_area": null,
       "grid_auto_columns": null,
       "grid_auto_flow": null,
       "grid_auto_rows": null,
       "grid_column": null,
       "grid_gap": null,
       "grid_row": null,
       "grid_template_areas": null,
       "grid_template_columns": null,
       "grid_template_rows": null,
       "height": null,
       "justify_content": null,
       "justify_items": null,
       "left": null,
       "margin": null,
       "max_height": null,
       "max_width": null,
       "min_height": null,
       "min_width": null,
       "object_fit": null,
       "object_position": null,
       "order": null,
       "overflow": null,
       "overflow_x": null,
       "overflow_y": null,
       "padding": null,
       "right": null,
       "top": null,
       "visibility": null,
       "width": null
      }
     }
    },
    "version_major": 2,
    "version_minor": 0
   }
  }
 },
 "nbformat": 4,
 "nbformat_minor": 5
}
